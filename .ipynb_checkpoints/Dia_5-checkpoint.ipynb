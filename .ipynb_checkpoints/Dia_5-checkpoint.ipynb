{
 "cells": [
  {
   "cell_type": "code",
   "execution_count": 22,
   "id": "93ed99c4",
   "metadata": {},
   "outputs": [],
   "source": [
    "# Importando bibliotecas necessárias\n",
    "\n",
    "import os\n",
    "import pandas as pd\n",
    "import numpy as np\n",
    "import plotly.graph_objects as go\n",
    "import plotly.express as px\n",
    "import plotly.colors as colors\n",
    "from datetime import datetime"
   ]
  },
  {
   "cell_type": "code",
   "execution_count": 23,
   "id": "8e3a6770",
   "metadata": {},
   "outputs": [],
   "source": [
    "# Diertório com os dados completos de empréstimo\n",
    "\n",
    "dir_data = 'C:/Users/vinic/OneDrive/Documentos/GitHub/7_Days_of_Code_Alura/Data/'"
   ]
  },
  {
   "cell_type": "code",
   "execution_count": 24,
   "id": "fc53bd51",
   "metadata": {},
   "outputs": [
    {
     "data": {
      "text/html": [
       "<div>\n",
       "<style scoped>\n",
       "    .dataframe tbody tr th:only-of-type {\n",
       "        vertical-align: middle;\n",
       "    }\n",
       "\n",
       "    .dataframe tbody tr th {\n",
       "        vertical-align: top;\n",
       "    }\n",
       "\n",
       "    .dataframe thead th {\n",
       "        text-align: right;\n",
       "    }\n",
       "</style>\n",
       "<table border=\"1\" class=\"dataframe\">\n",
       "  <thead>\n",
       "    <tr style=\"text-align: right;\">\n",
       "      <th></th>\n",
       "      <th>Unnamed: 0.1</th>\n",
       "      <th>Unnamed: 0</th>\n",
       "      <th>id_emprestimo</th>\n",
       "      <th>codigo_barras</th>\n",
       "      <th>data_renovacao</th>\n",
       "      <th>data_emprestimo</th>\n",
       "      <th>data_devolucao</th>\n",
       "      <th>matricula_ou_siape</th>\n",
       "      <th>tipo_vinculo_usuario</th>\n",
       "      <th>id_exemplar</th>\n",
       "      <th>colecao</th>\n",
       "      <th>biblioteca</th>\n",
       "      <th>status_material</th>\n",
       "      <th>localizacao</th>\n",
       "      <th>classe_cdu</th>\n",
       "    </tr>\n",
       "  </thead>\n",
       "  <tbody>\n",
       "    <tr>\n",
       "      <th>0</th>\n",
       "      <td>0</td>\n",
       "      <td>0</td>\n",
       "      <td>709684</td>\n",
       "      <td>L095049</td>\n",
       "      <td>NaN</td>\n",
       "      <td>2010-01-04 07:44:10.721</td>\n",
       "      <td>2010-01-05 16:26:12.662</td>\n",
       "      <td>2.008023e+09</td>\n",
       "      <td>ALUNO DE GRADUAÇÃO</td>\n",
       "      <td>13259</td>\n",
       "      <td>Acervo Circulante</td>\n",
       "      <td>Biblioteca Central Zila Mamede</td>\n",
       "      <td>REGULAR</td>\n",
       "      <td>630</td>\n",
       "      <td>Ciências aplicadas</td>\n",
       "    </tr>\n",
       "    <tr>\n",
       "      <th>1</th>\n",
       "      <td>1</td>\n",
       "      <td>1</td>\n",
       "      <td>726965</td>\n",
       "      <td>L095049</td>\n",
       "      <td>2010/03/31 12:41:08.684000000</td>\n",
       "      <td>2010-03-01 12:40:56.212</td>\n",
       "      <td>2010-04-30 14:42:35.366</td>\n",
       "      <td>2.009122e+09</td>\n",
       "      <td>ALUNO DE PÓS-GRADUAÇÃO</td>\n",
       "      <td>13259</td>\n",
       "      <td>Acervo Circulante</td>\n",
       "      <td>Biblioteca Central Zila Mamede</td>\n",
       "      <td>REGULAR</td>\n",
       "      <td>630</td>\n",
       "      <td>Ciências aplicadas</td>\n",
       "    </tr>\n",
       "    <tr>\n",
       "      <th>2</th>\n",
       "      <td>2</td>\n",
       "      <td>2</td>\n",
       "      <td>709685</td>\n",
       "      <td>L167050</td>\n",
       "      <td>NaN</td>\n",
       "      <td>2010-01-04 07:44:10.750</td>\n",
       "      <td>2010-01-12 07:34:13.934</td>\n",
       "      <td>2.008023e+09</td>\n",
       "      <td>ALUNO DE GRADUAÇÃO</td>\n",
       "      <td>70865</td>\n",
       "      <td>Acervo Circulante</td>\n",
       "      <td>Biblioteca Central Zila Mamede</td>\n",
       "      <td>REGULAR</td>\n",
       "      <td>647</td>\n",
       "      <td>Ciências aplicadas</td>\n",
       "    </tr>\n",
       "    <tr>\n",
       "      <th>3</th>\n",
       "      <td>3</td>\n",
       "      <td>3</td>\n",
       "      <td>717763</td>\n",
       "      <td>L167050</td>\n",
       "      <td>NaN</td>\n",
       "      <td>2010-02-11 11:16:30.335</td>\n",
       "      <td>2010-03-04 08:54:32.262</td>\n",
       "      <td>2.008050e+09</td>\n",
       "      <td>ALUNO DE GRADUAÇÃO</td>\n",
       "      <td>70865</td>\n",
       "      <td>Acervo Circulante</td>\n",
       "      <td>Biblioteca Central Zila Mamede</td>\n",
       "      <td>REGULAR</td>\n",
       "      <td>647</td>\n",
       "      <td>Ciências aplicadas</td>\n",
       "    </tr>\n",
       "    <tr>\n",
       "      <th>4</th>\n",
       "      <td>4</td>\n",
       "      <td>4</td>\n",
       "      <td>729996</td>\n",
       "      <td>L167050</td>\n",
       "      <td>2010/03/17 09:08:26.874000000</td>\n",
       "      <td>2010-03-04 13:36:26.599</td>\n",
       "      <td>2010-03-31 18:04:29.669</td>\n",
       "      <td>2.007226e+08</td>\n",
       "      <td>ALUNO DE GRADUAÇÃO</td>\n",
       "      <td>70865</td>\n",
       "      <td>Acervo Circulante</td>\n",
       "      <td>Biblioteca Central Zila Mamede</td>\n",
       "      <td>REGULAR</td>\n",
       "      <td>647</td>\n",
       "      <td>Ciências aplicadas</td>\n",
       "    </tr>\n",
       "    <tr>\n",
       "      <th>...</th>\n",
       "      <td>...</td>\n",
       "      <td>...</td>\n",
       "      <td>...</td>\n",
       "      <td>...</td>\n",
       "      <td>...</td>\n",
       "      <td>...</td>\n",
       "      <td>...</td>\n",
       "      <td>...</td>\n",
       "      <td>...</td>\n",
       "      <td>...</td>\n",
       "      <td>...</td>\n",
       "      <td>...</td>\n",
       "      <td>...</td>\n",
       "      <td>...</td>\n",
       "      <td>...</td>\n",
       "    </tr>\n",
       "    <tr>\n",
       "      <th>2072517</th>\n",
       "      <td>2072517</td>\n",
       "      <td>2072517</td>\n",
       "      <td>2989018</td>\n",
       "      <td>2009036492</td>\n",
       "      <td>NaN</td>\n",
       "      <td>2020-03-17 19:49:10.187</td>\n",
       "      <td>2020-12-03 08:12:20</td>\n",
       "      <td>2.015011e+10</td>\n",
       "      <td>ALUNO DE GRADUAÇÃO</td>\n",
       "      <td>274820</td>\n",
       "      <td>Acervo Circulante</td>\n",
       "      <td>Biblioteca Central Zila Mamede</td>\n",
       "      <td>REGULAR</td>\n",
       "      <td>676</td>\n",
       "      <td>Ciências aplicadas</td>\n",
       "    </tr>\n",
       "    <tr>\n",
       "      <th>2072518</th>\n",
       "      <td>2072518</td>\n",
       "      <td>2072518</td>\n",
       "      <td>2989020</td>\n",
       "      <td>2014062640</td>\n",
       "      <td>NaN</td>\n",
       "      <td>2020-03-17 19:51:15.700</td>\n",
       "      <td>2021-01-07 11:16:28</td>\n",
       "      <td>2.019004e+10</td>\n",
       "      <td>ALUNO DE GRADUAÇÃO</td>\n",
       "      <td>1157915</td>\n",
       "      <td>Acervo Circulante</td>\n",
       "      <td>Biblioteca Central Zila Mamede</td>\n",
       "      <td>REGULAR</td>\n",
       "      <td>228</td>\n",
       "      <td>Religião</td>\n",
       "    </tr>\n",
       "    <tr>\n",
       "      <th>2072519</th>\n",
       "      <td>2072519</td>\n",
       "      <td>2072519</td>\n",
       "      <td>2989032</td>\n",
       "      <td>2018003324</td>\n",
       "      <td>NaN</td>\n",
       "      <td>2020-03-17 20:00:11.416</td>\n",
       "      <td>2021-08-30 13:29:44</td>\n",
       "      <td>2.019102e+10</td>\n",
       "      <td>ALUNO DE PÓS-GRADUAÇÃO</td>\n",
       "      <td>1317173</td>\n",
       "      <td>Acervo Circulante</td>\n",
       "      <td>Biblioteca Setorial da Faculdade de Ciências d...</td>\n",
       "      <td>REGULAR</td>\n",
       "      <td>784</td>\n",
       "      <td>Belas artes</td>\n",
       "    </tr>\n",
       "    <tr>\n",
       "      <th>2072520</th>\n",
       "      <td>2072520</td>\n",
       "      <td>2072520</td>\n",
       "      <td>2989049</td>\n",
       "      <td>2006024313</td>\n",
       "      <td>NaN</td>\n",
       "      <td>2020-03-17 20:47:18.741</td>\n",
       "      <td>NaN</td>\n",
       "      <td>2.015013e+10</td>\n",
       "      <td>ALUNO DE GRADUAÇÃO</td>\n",
       "      <td>206073</td>\n",
       "      <td>Acervo Circulante</td>\n",
       "      <td>Biblioteca Central Zila Mamede</td>\n",
       "      <td>REGULAR</td>\n",
       "      <td>663</td>\n",
       "      <td>Ciências aplicadas</td>\n",
       "    </tr>\n",
       "    <tr>\n",
       "      <th>2072521</th>\n",
       "      <td>2072521</td>\n",
       "      <td>2072521</td>\n",
       "      <td>2989061</td>\n",
       "      <td>2018031352</td>\n",
       "      <td>NaN</td>\n",
       "      <td>2020-03-17 21:22:22.138</td>\n",
       "      <td>2021-07-26 15:05:20</td>\n",
       "      <td>2.020001e+10</td>\n",
       "      <td>ALUNO DE GRADUAÇÃO</td>\n",
       "      <td>1342535</td>\n",
       "      <td>Acervo Circulante</td>\n",
       "      <td>Biblioteca Central Zila Mamede</td>\n",
       "      <td>REGULAR</td>\n",
       "      <td>355</td>\n",
       "      <td>Ciências sociais</td>\n",
       "    </tr>\n",
       "  </tbody>\n",
       "</table>\n",
       "<p>2072522 rows × 15 columns</p>\n",
       "</div>"
      ],
      "text/plain": [
       "         Unnamed: 0.1  Unnamed: 0  id_emprestimo codigo_barras  \\\n",
       "0                   0           0         709684       L095049   \n",
       "1                   1           1         726965       L095049   \n",
       "2                   2           2         709685       L167050   \n",
       "3                   3           3         717763       L167050   \n",
       "4                   4           4         729996       L167050   \n",
       "...               ...         ...            ...           ...   \n",
       "2072517       2072517     2072517        2989018    2009036492   \n",
       "2072518       2072518     2072518        2989020    2014062640   \n",
       "2072519       2072519     2072519        2989032    2018003324   \n",
       "2072520       2072520     2072520        2989049    2006024313   \n",
       "2072521       2072521     2072521        2989061    2018031352   \n",
       "\n",
       "                        data_renovacao          data_emprestimo  \\\n",
       "0                                  NaN  2010-01-04 07:44:10.721   \n",
       "1        2010/03/31 12:41:08.684000000  2010-03-01 12:40:56.212   \n",
       "2                                  NaN  2010-01-04 07:44:10.750   \n",
       "3                                  NaN  2010-02-11 11:16:30.335   \n",
       "4        2010/03/17 09:08:26.874000000  2010-03-04 13:36:26.599   \n",
       "...                                ...                      ...   \n",
       "2072517                            NaN  2020-03-17 19:49:10.187   \n",
       "2072518                            NaN  2020-03-17 19:51:15.700   \n",
       "2072519                            NaN  2020-03-17 20:00:11.416   \n",
       "2072520                            NaN  2020-03-17 20:47:18.741   \n",
       "2072521                            NaN  2020-03-17 21:22:22.138   \n",
       "\n",
       "                  data_devolucao  matricula_ou_siape    tipo_vinculo_usuario  \\\n",
       "0        2010-01-05 16:26:12.662        2.008023e+09      ALUNO DE GRADUAÇÃO   \n",
       "1        2010-04-30 14:42:35.366        2.009122e+09  ALUNO DE PÓS-GRADUAÇÃO   \n",
       "2        2010-01-12 07:34:13.934        2.008023e+09      ALUNO DE GRADUAÇÃO   \n",
       "3        2010-03-04 08:54:32.262        2.008050e+09      ALUNO DE GRADUAÇÃO   \n",
       "4        2010-03-31 18:04:29.669        2.007226e+08      ALUNO DE GRADUAÇÃO   \n",
       "...                          ...                 ...                     ...   \n",
       "2072517      2020-12-03 08:12:20        2.015011e+10      ALUNO DE GRADUAÇÃO   \n",
       "2072518      2021-01-07 11:16:28        2.019004e+10      ALUNO DE GRADUAÇÃO   \n",
       "2072519      2021-08-30 13:29:44        2.019102e+10  ALUNO DE PÓS-GRADUAÇÃO   \n",
       "2072520                      NaN        2.015013e+10      ALUNO DE GRADUAÇÃO   \n",
       "2072521      2021-07-26 15:05:20        2.020001e+10      ALUNO DE GRADUAÇÃO   \n",
       "\n",
       "         id_exemplar            colecao  \\\n",
       "0              13259  Acervo Circulante   \n",
       "1              13259  Acervo Circulante   \n",
       "2              70865  Acervo Circulante   \n",
       "3              70865  Acervo Circulante   \n",
       "4              70865  Acervo Circulante   \n",
       "...              ...                ...   \n",
       "2072517       274820  Acervo Circulante   \n",
       "2072518      1157915  Acervo Circulante   \n",
       "2072519      1317173  Acervo Circulante   \n",
       "2072520       206073  Acervo Circulante   \n",
       "2072521      1342535  Acervo Circulante   \n",
       "\n",
       "                                                biblioteca status_material  \\\n",
       "0                           Biblioteca Central Zila Mamede         REGULAR   \n",
       "1                           Biblioteca Central Zila Mamede         REGULAR   \n",
       "2                           Biblioteca Central Zila Mamede         REGULAR   \n",
       "3                           Biblioteca Central Zila Mamede         REGULAR   \n",
       "4                           Biblioteca Central Zila Mamede         REGULAR   \n",
       "...                                                    ...             ...   \n",
       "2072517                     Biblioteca Central Zila Mamede         REGULAR   \n",
       "2072518                     Biblioteca Central Zila Mamede         REGULAR   \n",
       "2072519  Biblioteca Setorial da Faculdade de Ciências d...         REGULAR   \n",
       "2072520                     Biblioteca Central Zila Mamede         REGULAR   \n",
       "2072521                     Biblioteca Central Zila Mamede         REGULAR   \n",
       "\n",
       "         localizacao          classe_cdu  \n",
       "0                630  Ciências aplicadas  \n",
       "1                630  Ciências aplicadas  \n",
       "2                647  Ciências aplicadas  \n",
       "3                647  Ciências aplicadas  \n",
       "4                647  Ciências aplicadas  \n",
       "...              ...                 ...  \n",
       "2072517          676  Ciências aplicadas  \n",
       "2072518          228            Religião  \n",
       "2072519          784         Belas artes  \n",
       "2072520          663  Ciências aplicadas  \n",
       "2072521          355    Ciências sociais  \n",
       "\n",
       "[2072522 rows x 15 columns]"
      ]
     },
     "execution_count": 24,
     "metadata": {},
     "output_type": "execute_result"
    }
   ],
   "source": [
    "# Lendo o arquivo com os dados\n",
    "\n",
    "emprestimos_completo = pd.read_csv(os.path.join(dir_data, 'emprestimos_completo.csv'))\n",
    "emprestimos_completo"
   ]
  },
  {
   "cell_type": "markdown",
   "id": "9ee43f73",
   "metadata": {},
   "source": [
    "# Separando os datasets a serem usados"
   ]
  },
  {
   "cell_type": "code",
   "execution_count": 25,
   "id": "978862cd",
   "metadata": {
    "scrolled": true
   },
   "outputs": [
    {
     "data": {
      "text/html": [
       "<div>\n",
       "<style scoped>\n",
       "    .dataframe tbody tr th:only-of-type {\n",
       "        vertical-align: middle;\n",
       "    }\n",
       "\n",
       "    .dataframe tbody tr th {\n",
       "        vertical-align: top;\n",
       "    }\n",
       "\n",
       "    .dataframe thead th {\n",
       "        text-align: right;\n",
       "    }\n",
       "</style>\n",
       "<table border=\"1\" class=\"dataframe\">\n",
       "  <thead>\n",
       "    <tr style=\"text-align: right;\">\n",
       "      <th></th>\n",
       "      <th>id_emprestimo</th>\n",
       "      <th>codigo_barras</th>\n",
       "      <th>data_renovacao</th>\n",
       "      <th>data_emprestimo</th>\n",
       "      <th>data_devolucao</th>\n",
       "      <th>matricula_ou_siape</th>\n",
       "      <th>tipo_vinculo_usuario</th>\n",
       "      <th>id_exemplar</th>\n",
       "      <th>colecao</th>\n",
       "      <th>biblioteca</th>\n",
       "      <th>status_material</th>\n",
       "      <th>localizacao</th>\n",
       "      <th>classe_cdu</th>\n",
       "    </tr>\n",
       "  </thead>\n",
       "  <tbody>\n",
       "    <tr>\n",
       "      <th>0</th>\n",
       "      <td>709684</td>\n",
       "      <td>L095049</td>\n",
       "      <td>NaN</td>\n",
       "      <td>2010-01-04 07:44:10.721</td>\n",
       "      <td>2010-01-05 16:26:12.662</td>\n",
       "      <td>2.008023e+09</td>\n",
       "      <td>ALUNO DE GRADUAÇÃO</td>\n",
       "      <td>13259</td>\n",
       "      <td>Acervo Circulante</td>\n",
       "      <td>Biblioteca Central Zila Mamede</td>\n",
       "      <td>REGULAR</td>\n",
       "      <td>630</td>\n",
       "      <td>Ciências aplicadas</td>\n",
       "    </tr>\n",
       "    <tr>\n",
       "      <th>2</th>\n",
       "      <td>709685</td>\n",
       "      <td>L167050</td>\n",
       "      <td>NaN</td>\n",
       "      <td>2010-01-04 07:44:10.750</td>\n",
       "      <td>2010-01-12 07:34:13.934</td>\n",
       "      <td>2.008023e+09</td>\n",
       "      <td>ALUNO DE GRADUAÇÃO</td>\n",
       "      <td>70865</td>\n",
       "      <td>Acervo Circulante</td>\n",
       "      <td>Biblioteca Central Zila Mamede</td>\n",
       "      <td>REGULAR</td>\n",
       "      <td>647</td>\n",
       "      <td>Ciências aplicadas</td>\n",
       "    </tr>\n",
       "    <tr>\n",
       "      <th>3</th>\n",
       "      <td>717763</td>\n",
       "      <td>L167050</td>\n",
       "      <td>NaN</td>\n",
       "      <td>2010-02-11 11:16:30.335</td>\n",
       "      <td>2010-03-04 08:54:32.262</td>\n",
       "      <td>2.008050e+09</td>\n",
       "      <td>ALUNO DE GRADUAÇÃO</td>\n",
       "      <td>70865</td>\n",
       "      <td>Acervo Circulante</td>\n",
       "      <td>Biblioteca Central Zila Mamede</td>\n",
       "      <td>REGULAR</td>\n",
       "      <td>647</td>\n",
       "      <td>Ciências aplicadas</td>\n",
       "    </tr>\n",
       "    <tr>\n",
       "      <th>4</th>\n",
       "      <td>729996</td>\n",
       "      <td>L167050</td>\n",
       "      <td>2010/03/17 09:08:26.874000000</td>\n",
       "      <td>2010-03-04 13:36:26.599</td>\n",
       "      <td>2010-03-31 18:04:29.669</td>\n",
       "      <td>2.007226e+08</td>\n",
       "      <td>ALUNO DE GRADUAÇÃO</td>\n",
       "      <td>70865</td>\n",
       "      <td>Acervo Circulante</td>\n",
       "      <td>Biblioteca Central Zila Mamede</td>\n",
       "      <td>REGULAR</td>\n",
       "      <td>647</td>\n",
       "      <td>Ciências aplicadas</td>\n",
       "    </tr>\n",
       "    <tr>\n",
       "      <th>5</th>\n",
       "      <td>750168</td>\n",
       "      <td>L167050</td>\n",
       "      <td>2010/04/20 08:40:47.151000000</td>\n",
       "      <td>2010-04-06 09:43:02.740</td>\n",
       "      <td>2010-05-05 18:33:53.974</td>\n",
       "      <td>2.007199e+08</td>\n",
       "      <td>ALUNO DE GRADUAÇÃO</td>\n",
       "      <td>70865</td>\n",
       "      <td>Acervo Circulante</td>\n",
       "      <td>Biblioteca Central Zila Mamede</td>\n",
       "      <td>REGULAR</td>\n",
       "      <td>647</td>\n",
       "      <td>Ciências aplicadas</td>\n",
       "    </tr>\n",
       "    <tr>\n",
       "      <th>...</th>\n",
       "      <td>...</td>\n",
       "      <td>...</td>\n",
       "      <td>...</td>\n",
       "      <td>...</td>\n",
       "      <td>...</td>\n",
       "      <td>...</td>\n",
       "      <td>...</td>\n",
       "      <td>...</td>\n",
       "      <td>...</td>\n",
       "      <td>...</td>\n",
       "      <td>...</td>\n",
       "      <td>...</td>\n",
       "      <td>...</td>\n",
       "    </tr>\n",
       "    <tr>\n",
       "      <th>2072516</th>\n",
       "      <td>2988968</td>\n",
       "      <td>2016033194</td>\n",
       "      <td>2020/04/06 18:21:57.168000000</td>\n",
       "      <td>2020-03-17 18:33:29.752</td>\n",
       "      <td>2021-06-15 16:52:35</td>\n",
       "      <td>2.016014e+10</td>\n",
       "      <td>ALUNO DE GRADUAÇÃO</td>\n",
       "      <td>1310816</td>\n",
       "      <td>Acervo Circulante</td>\n",
       "      <td>Biblioteca Setorial da Faculdade de Ciências d...</td>\n",
       "      <td>REGULAR</td>\n",
       "      <td>785</td>\n",
       "      <td>Belas artes</td>\n",
       "    </tr>\n",
       "    <tr>\n",
       "      <th>2072517</th>\n",
       "      <td>2989018</td>\n",
       "      <td>2009036492</td>\n",
       "      <td>NaN</td>\n",
       "      <td>2020-03-17 19:49:10.187</td>\n",
       "      <td>2020-12-03 08:12:20</td>\n",
       "      <td>2.015011e+10</td>\n",
       "      <td>ALUNO DE GRADUAÇÃO</td>\n",
       "      <td>274820</td>\n",
       "      <td>Acervo Circulante</td>\n",
       "      <td>Biblioteca Central Zila Mamede</td>\n",
       "      <td>REGULAR</td>\n",
       "      <td>676</td>\n",
       "      <td>Ciências aplicadas</td>\n",
       "    </tr>\n",
       "    <tr>\n",
       "      <th>2072518</th>\n",
       "      <td>2989020</td>\n",
       "      <td>2014062640</td>\n",
       "      <td>NaN</td>\n",
       "      <td>2020-03-17 19:51:15.700</td>\n",
       "      <td>2021-01-07 11:16:28</td>\n",
       "      <td>2.019004e+10</td>\n",
       "      <td>ALUNO DE GRADUAÇÃO</td>\n",
       "      <td>1157915</td>\n",
       "      <td>Acervo Circulante</td>\n",
       "      <td>Biblioteca Central Zila Mamede</td>\n",
       "      <td>REGULAR</td>\n",
       "      <td>228</td>\n",
       "      <td>Religião</td>\n",
       "    </tr>\n",
       "    <tr>\n",
       "      <th>2072520</th>\n",
       "      <td>2989049</td>\n",
       "      <td>2006024313</td>\n",
       "      <td>NaN</td>\n",
       "      <td>2020-03-17 20:47:18.741</td>\n",
       "      <td>NaN</td>\n",
       "      <td>2.015013e+10</td>\n",
       "      <td>ALUNO DE GRADUAÇÃO</td>\n",
       "      <td>206073</td>\n",
       "      <td>Acervo Circulante</td>\n",
       "      <td>Biblioteca Central Zila Mamede</td>\n",
       "      <td>REGULAR</td>\n",
       "      <td>663</td>\n",
       "      <td>Ciências aplicadas</td>\n",
       "    </tr>\n",
       "    <tr>\n",
       "      <th>2072521</th>\n",
       "      <td>2989061</td>\n",
       "      <td>2018031352</td>\n",
       "      <td>NaN</td>\n",
       "      <td>2020-03-17 21:22:22.138</td>\n",
       "      <td>2021-07-26 15:05:20</td>\n",
       "      <td>2.020001e+10</td>\n",
       "      <td>ALUNO DE GRADUAÇÃO</td>\n",
       "      <td>1342535</td>\n",
       "      <td>Acervo Circulante</td>\n",
       "      <td>Biblioteca Central Zila Mamede</td>\n",
       "      <td>REGULAR</td>\n",
       "      <td>355</td>\n",
       "      <td>Ciências sociais</td>\n",
       "    </tr>\n",
       "  </tbody>\n",
       "</table>\n",
       "<p>1612324 rows × 13 columns</p>\n",
       "</div>"
      ],
      "text/plain": [
       "         id_emprestimo codigo_barras                 data_renovacao  \\\n",
       "0               709684       L095049                            NaN   \n",
       "2               709685       L167050                            NaN   \n",
       "3               717763       L167050                            NaN   \n",
       "4               729996       L167050  2010/03/17 09:08:26.874000000   \n",
       "5               750168       L167050  2010/04/20 08:40:47.151000000   \n",
       "...                ...           ...                            ...   \n",
       "2072516        2988968    2016033194  2020/04/06 18:21:57.168000000   \n",
       "2072517        2989018    2009036492                            NaN   \n",
       "2072518        2989020    2014062640                            NaN   \n",
       "2072520        2989049    2006024313                            NaN   \n",
       "2072521        2989061    2018031352                            NaN   \n",
       "\n",
       "                 data_emprestimo           data_devolucao  matricula_ou_siape  \\\n",
       "0        2010-01-04 07:44:10.721  2010-01-05 16:26:12.662        2.008023e+09   \n",
       "2        2010-01-04 07:44:10.750  2010-01-12 07:34:13.934        2.008023e+09   \n",
       "3        2010-02-11 11:16:30.335  2010-03-04 08:54:32.262        2.008050e+09   \n",
       "4        2010-03-04 13:36:26.599  2010-03-31 18:04:29.669        2.007226e+08   \n",
       "5        2010-04-06 09:43:02.740  2010-05-05 18:33:53.974        2.007199e+08   \n",
       "...                          ...                      ...                 ...   \n",
       "2072516  2020-03-17 18:33:29.752      2021-06-15 16:52:35        2.016014e+10   \n",
       "2072517  2020-03-17 19:49:10.187      2020-12-03 08:12:20        2.015011e+10   \n",
       "2072518  2020-03-17 19:51:15.700      2021-01-07 11:16:28        2.019004e+10   \n",
       "2072520  2020-03-17 20:47:18.741                      NaN        2.015013e+10   \n",
       "2072521  2020-03-17 21:22:22.138      2021-07-26 15:05:20        2.020001e+10   \n",
       "\n",
       "        tipo_vinculo_usuario  id_exemplar            colecao  \\\n",
       "0         ALUNO DE GRADUAÇÃO        13259  Acervo Circulante   \n",
       "2         ALUNO DE GRADUAÇÃO        70865  Acervo Circulante   \n",
       "3         ALUNO DE GRADUAÇÃO        70865  Acervo Circulante   \n",
       "4         ALUNO DE GRADUAÇÃO        70865  Acervo Circulante   \n",
       "5         ALUNO DE GRADUAÇÃO        70865  Acervo Circulante   \n",
       "...                      ...          ...                ...   \n",
       "2072516   ALUNO DE GRADUAÇÃO      1310816  Acervo Circulante   \n",
       "2072517   ALUNO DE GRADUAÇÃO       274820  Acervo Circulante   \n",
       "2072518   ALUNO DE GRADUAÇÃO      1157915  Acervo Circulante   \n",
       "2072520   ALUNO DE GRADUAÇÃO       206073  Acervo Circulante   \n",
       "2072521   ALUNO DE GRADUAÇÃO      1342535  Acervo Circulante   \n",
       "\n",
       "                                                biblioteca status_material  \\\n",
       "0                           Biblioteca Central Zila Mamede         REGULAR   \n",
       "2                           Biblioteca Central Zila Mamede         REGULAR   \n",
       "3                           Biblioteca Central Zila Mamede         REGULAR   \n",
       "4                           Biblioteca Central Zila Mamede         REGULAR   \n",
       "5                           Biblioteca Central Zila Mamede         REGULAR   \n",
       "...                                                    ...             ...   \n",
       "2072516  Biblioteca Setorial da Faculdade de Ciências d...         REGULAR   \n",
       "2072517                     Biblioteca Central Zila Mamede         REGULAR   \n",
       "2072518                     Biblioteca Central Zila Mamede         REGULAR   \n",
       "2072520                     Biblioteca Central Zila Mamede         REGULAR   \n",
       "2072521                     Biblioteca Central Zila Mamede         REGULAR   \n",
       "\n",
       "         localizacao          classe_cdu  \n",
       "0                630  Ciências aplicadas  \n",
       "2                647  Ciências aplicadas  \n",
       "3                647  Ciências aplicadas  \n",
       "4                647  Ciências aplicadas  \n",
       "5                647  Ciências aplicadas  \n",
       "...              ...                 ...  \n",
       "2072516          785         Belas artes  \n",
       "2072517          676  Ciências aplicadas  \n",
       "2072518          228            Religião  \n",
       "2072520          663  Ciências aplicadas  \n",
       "2072521          355    Ciências sociais  \n",
       "\n",
       "[1612324 rows x 13 columns]"
      ]
     },
     "execution_count": 25,
     "metadata": {},
     "output_type": "execute_result"
    }
   ],
   "source": [
    "# Dataset para os alunos de graduação\n",
    "\n",
    "graduacao = emprestimos_completo[emprestimos_completo['tipo_vinculo_usuario'] == 'ALUNO DE GRADUAÇÃO']\n",
    "\n",
    "# Excluidno as duas primeiras colunas, pois são repetição dos índices\n",
    "graduacao = graduacao.drop(['Unnamed: 0.1', 'Unnamed: 0'], axis=1)\n",
    "graduacao"
   ]
  },
  {
   "cell_type": "code",
   "execution_count": 26,
   "id": "21a71cc9",
   "metadata": {},
   "outputs": [
    {
     "data": {
      "text/html": [
       "<div>\n",
       "<style scoped>\n",
       "    .dataframe tbody tr th:only-of-type {\n",
       "        vertical-align: middle;\n",
       "    }\n",
       "\n",
       "    .dataframe tbody tr th {\n",
       "        vertical-align: top;\n",
       "    }\n",
       "\n",
       "    .dataframe thead th {\n",
       "        text-align: right;\n",
       "    }\n",
       "</style>\n",
       "<table border=\"1\" class=\"dataframe\">\n",
       "  <thead>\n",
       "    <tr style=\"text-align: right;\">\n",
       "      <th></th>\n",
       "      <th>id_emprestimo</th>\n",
       "      <th>codigo_barras</th>\n",
       "      <th>data_renovacao</th>\n",
       "      <th>data_emprestimo</th>\n",
       "      <th>data_devolucao</th>\n",
       "      <th>matricula_ou_siape</th>\n",
       "      <th>tipo_vinculo_usuario</th>\n",
       "      <th>id_exemplar</th>\n",
       "      <th>colecao</th>\n",
       "      <th>biblioteca</th>\n",
       "      <th>status_material</th>\n",
       "      <th>localizacao</th>\n",
       "      <th>classe_cdu</th>\n",
       "    </tr>\n",
       "  </thead>\n",
       "  <tbody>\n",
       "    <tr>\n",
       "      <th>1</th>\n",
       "      <td>726965</td>\n",
       "      <td>L095049</td>\n",
       "      <td>2010/03/31 12:41:08.684000000</td>\n",
       "      <td>2010-03-01 12:40:56.212</td>\n",
       "      <td>2010-04-30 14:42:35.366</td>\n",
       "      <td>2.009122e+09</td>\n",
       "      <td>ALUNO DE PÓS-GRADUAÇÃO</td>\n",
       "      <td>13259</td>\n",
       "      <td>Acervo Circulante</td>\n",
       "      <td>Biblioteca Central Zila Mamede</td>\n",
       "      <td>REGULAR</td>\n",
       "      <td>630</td>\n",
       "      <td>Ciências aplicadas</td>\n",
       "    </tr>\n",
       "    <tr>\n",
       "      <th>8</th>\n",
       "      <td>785791</td>\n",
       "      <td>L167050</td>\n",
       "      <td>NaN</td>\n",
       "      <td>2010-06-01 18:41:54.885</td>\n",
       "      <td>2010-07-01 21:19:58.000</td>\n",
       "      <td>2.009102e+09</td>\n",
       "      <td>ALUNO DE PÓS-GRADUAÇÃO</td>\n",
       "      <td>70865</td>\n",
       "      <td>Acervo Circulante</td>\n",
       "      <td>Biblioteca Central Zila Mamede</td>\n",
       "      <td>REGULAR</td>\n",
       "      <td>647</td>\n",
       "      <td>Ciências aplicadas</td>\n",
       "    </tr>\n",
       "    <tr>\n",
       "      <th>15</th>\n",
       "      <td>880244</td>\n",
       "      <td>L167050</td>\n",
       "      <td>NaN</td>\n",
       "      <td>2010-11-26 19:33:16.188</td>\n",
       "      <td>2010-12-14 18:52:15.000</td>\n",
       "      <td>2.014125e+09</td>\n",
       "      <td>ALUNO DE PÓS-GRADUAÇÃO</td>\n",
       "      <td>70865</td>\n",
       "      <td>Acervo Circulante</td>\n",
       "      <td>Biblioteca Central Zila Mamede</td>\n",
       "      <td>REGULAR</td>\n",
       "      <td>647</td>\n",
       "      <td>Ciências aplicadas</td>\n",
       "    </tr>\n",
       "    <tr>\n",
       "      <th>22</th>\n",
       "      <td>1041880</td>\n",
       "      <td>L167050</td>\n",
       "      <td>2011/08/21 11:47:13.866000000</td>\n",
       "      <td>2011-08-08 12:40:38.355</td>\n",
       "      <td>2011-09-05 11:06:34.000</td>\n",
       "      <td>2.015102e+09</td>\n",
       "      <td>ALUNO DE PÓS-GRADUAÇÃO</td>\n",
       "      <td>70865</td>\n",
       "      <td>Acervo Circulante</td>\n",
       "      <td>Biblioteca Central Zila Mamede</td>\n",
       "      <td>REGULAR</td>\n",
       "      <td>647</td>\n",
       "      <td>Ciências aplicadas</td>\n",
       "    </tr>\n",
       "    <tr>\n",
       "      <th>24</th>\n",
       "      <td>1082240</td>\n",
       "      <td>L167050</td>\n",
       "      <td>2011/10/20 08:58:05.351000000</td>\n",
       "      <td>2011-09-20 11:44:21.892</td>\n",
       "      <td>2011-11-22 16:36:13.000</td>\n",
       "      <td>2.010121e+09</td>\n",
       "      <td>ALUNO DE PÓS-GRADUAÇÃO</td>\n",
       "      <td>70865</td>\n",
       "      <td>Acervo Circulante</td>\n",
       "      <td>Biblioteca Central Zila Mamede</td>\n",
       "      <td>REGULAR</td>\n",
       "      <td>647</td>\n",
       "      <td>Ciências aplicadas</td>\n",
       "    </tr>\n",
       "    <tr>\n",
       "      <th>...</th>\n",
       "      <td>...</td>\n",
       "      <td>...</td>\n",
       "      <td>...</td>\n",
       "      <td>...</td>\n",
       "      <td>...</td>\n",
       "      <td>...</td>\n",
       "      <td>...</td>\n",
       "      <td>...</td>\n",
       "      <td>...</td>\n",
       "      <td>...</td>\n",
       "      <td>...</td>\n",
       "      <td>...</td>\n",
       "      <td>...</td>\n",
       "    </tr>\n",
       "    <tr>\n",
       "      <th>2072502</th>\n",
       "      <td>2988811</td>\n",
       "      <td>2015033958</td>\n",
       "      <td>2020/04/26 11:43:40.087000000</td>\n",
       "      <td>2020-03-17 16:20:01.906</td>\n",
       "      <td>2021-06-09 12:33:33</td>\n",
       "      <td>2.016103e+10</td>\n",
       "      <td>ALUNO DE PÓS-GRADUAÇÃO</td>\n",
       "      <td>1211606</td>\n",
       "      <td>Acervo Circulante</td>\n",
       "      <td>Biblioteca Central Zila Mamede</td>\n",
       "      <td>REGULAR</td>\n",
       "      <td>541</td>\n",
       "      <td>Matemática e ciências naturais</td>\n",
       "    </tr>\n",
       "    <tr>\n",
       "      <th>2072503</th>\n",
       "      <td>2988812</td>\n",
       "      <td>2016019436</td>\n",
       "      <td>2020/04/26 11:43:40.062000000</td>\n",
       "      <td>2020-03-17 16:20:01.992</td>\n",
       "      <td>2021-06-09 12:33:39</td>\n",
       "      <td>2.016103e+10</td>\n",
       "      <td>ALUNO DE PÓS-GRADUAÇÃO</td>\n",
       "      <td>1235460</td>\n",
       "      <td>Acervo Circulante</td>\n",
       "      <td>Biblioteca Central Zila Mamede</td>\n",
       "      <td>REGULAR</td>\n",
       "      <td>511</td>\n",
       "      <td>Matemática e ciências naturais</td>\n",
       "    </tr>\n",
       "    <tr>\n",
       "      <th>2072505</th>\n",
       "      <td>2988851</td>\n",
       "      <td>2014061383</td>\n",
       "      <td>NaN</td>\n",
       "      <td>2020-03-17 16:46:55.065</td>\n",
       "      <td>2021-10-18 11:33:35</td>\n",
       "      <td>2.018102e+10</td>\n",
       "      <td>ALUNO DE PÓS-GRADUAÇÃO</td>\n",
       "      <td>1164548</td>\n",
       "      <td>Acervo Circulante</td>\n",
       "      <td>Biblioteca Central Zila Mamede</td>\n",
       "      <td>REGULAR</td>\n",
       "      <td>657</td>\n",
       "      <td>Ciências aplicadas</td>\n",
       "    </tr>\n",
       "    <tr>\n",
       "      <th>2072508</th>\n",
       "      <td>2988891</td>\n",
       "      <td>2017008971</td>\n",
       "      <td>2020/04/19 16:42:15.125000000</td>\n",
       "      <td>2020-03-17 17:13:00.546</td>\n",
       "      <td>NaN</td>\n",
       "      <td>2.018102e+10</td>\n",
       "      <td>ALUNO DE PÓS-GRADUAÇÃO</td>\n",
       "      <td>1314272</td>\n",
       "      <td>Acervo Circulante</td>\n",
       "      <td>Biblioteca Central Zila Mamede</td>\n",
       "      <td>REGULAR</td>\n",
       "      <td>747</td>\n",
       "      <td>Belas artes</td>\n",
       "    </tr>\n",
       "    <tr>\n",
       "      <th>2072519</th>\n",
       "      <td>2989032</td>\n",
       "      <td>2018003324</td>\n",
       "      <td>NaN</td>\n",
       "      <td>2020-03-17 20:00:11.416</td>\n",
       "      <td>2021-08-30 13:29:44</td>\n",
       "      <td>2.019102e+10</td>\n",
       "      <td>ALUNO DE PÓS-GRADUAÇÃO</td>\n",
       "      <td>1317173</td>\n",
       "      <td>Acervo Circulante</td>\n",
       "      <td>Biblioteca Setorial da Faculdade de Ciências d...</td>\n",
       "      <td>REGULAR</td>\n",
       "      <td>784</td>\n",
       "      <td>Belas artes</td>\n",
       "    </tr>\n",
       "  </tbody>\n",
       "</table>\n",
       "<p>302541 rows × 13 columns</p>\n",
       "</div>"
      ],
      "text/plain": [
       "         id_emprestimo codigo_barras                 data_renovacao  \\\n",
       "1               726965       L095049  2010/03/31 12:41:08.684000000   \n",
       "8               785791       L167050                            NaN   \n",
       "15              880244       L167050                            NaN   \n",
       "22             1041880       L167050  2011/08/21 11:47:13.866000000   \n",
       "24             1082240       L167050  2011/10/20 08:58:05.351000000   \n",
       "...                ...           ...                            ...   \n",
       "2072502        2988811    2015033958  2020/04/26 11:43:40.087000000   \n",
       "2072503        2988812    2016019436  2020/04/26 11:43:40.062000000   \n",
       "2072505        2988851    2014061383                            NaN   \n",
       "2072508        2988891    2017008971  2020/04/19 16:42:15.125000000   \n",
       "2072519        2989032    2018003324                            NaN   \n",
       "\n",
       "                 data_emprestimo           data_devolucao  matricula_ou_siape  \\\n",
       "1        2010-03-01 12:40:56.212  2010-04-30 14:42:35.366        2.009122e+09   \n",
       "8        2010-06-01 18:41:54.885  2010-07-01 21:19:58.000        2.009102e+09   \n",
       "15       2010-11-26 19:33:16.188  2010-12-14 18:52:15.000        2.014125e+09   \n",
       "22       2011-08-08 12:40:38.355  2011-09-05 11:06:34.000        2.015102e+09   \n",
       "24       2011-09-20 11:44:21.892  2011-11-22 16:36:13.000        2.010121e+09   \n",
       "...                          ...                      ...                 ...   \n",
       "2072502  2020-03-17 16:20:01.906      2021-06-09 12:33:33        2.016103e+10   \n",
       "2072503  2020-03-17 16:20:01.992      2021-06-09 12:33:39        2.016103e+10   \n",
       "2072505  2020-03-17 16:46:55.065      2021-10-18 11:33:35        2.018102e+10   \n",
       "2072508  2020-03-17 17:13:00.546                      NaN        2.018102e+10   \n",
       "2072519  2020-03-17 20:00:11.416      2021-08-30 13:29:44        2.019102e+10   \n",
       "\n",
       "           tipo_vinculo_usuario  id_exemplar            colecao  \\\n",
       "1        ALUNO DE PÓS-GRADUAÇÃO        13259  Acervo Circulante   \n",
       "8        ALUNO DE PÓS-GRADUAÇÃO        70865  Acervo Circulante   \n",
       "15       ALUNO DE PÓS-GRADUAÇÃO        70865  Acervo Circulante   \n",
       "22       ALUNO DE PÓS-GRADUAÇÃO        70865  Acervo Circulante   \n",
       "24       ALUNO DE PÓS-GRADUAÇÃO        70865  Acervo Circulante   \n",
       "...                         ...          ...                ...   \n",
       "2072502  ALUNO DE PÓS-GRADUAÇÃO      1211606  Acervo Circulante   \n",
       "2072503  ALUNO DE PÓS-GRADUAÇÃO      1235460  Acervo Circulante   \n",
       "2072505  ALUNO DE PÓS-GRADUAÇÃO      1164548  Acervo Circulante   \n",
       "2072508  ALUNO DE PÓS-GRADUAÇÃO      1314272  Acervo Circulante   \n",
       "2072519  ALUNO DE PÓS-GRADUAÇÃO      1317173  Acervo Circulante   \n",
       "\n",
       "                                                biblioteca status_material  \\\n",
       "1                           Biblioteca Central Zila Mamede         REGULAR   \n",
       "8                           Biblioteca Central Zila Mamede         REGULAR   \n",
       "15                          Biblioteca Central Zila Mamede         REGULAR   \n",
       "22                          Biblioteca Central Zila Mamede         REGULAR   \n",
       "24                          Biblioteca Central Zila Mamede         REGULAR   \n",
       "...                                                    ...             ...   \n",
       "2072502                     Biblioteca Central Zila Mamede         REGULAR   \n",
       "2072503                     Biblioteca Central Zila Mamede         REGULAR   \n",
       "2072505                     Biblioteca Central Zila Mamede         REGULAR   \n",
       "2072508                     Biblioteca Central Zila Mamede         REGULAR   \n",
       "2072519  Biblioteca Setorial da Faculdade de Ciências d...         REGULAR   \n",
       "\n",
       "         localizacao                      classe_cdu  \n",
       "1                630              Ciências aplicadas  \n",
       "8                647              Ciências aplicadas  \n",
       "15               647              Ciências aplicadas  \n",
       "22               647              Ciências aplicadas  \n",
       "24               647              Ciências aplicadas  \n",
       "...              ...                             ...  \n",
       "2072502          541  Matemática e ciências naturais  \n",
       "2072503          511  Matemática e ciências naturais  \n",
       "2072505          657              Ciências aplicadas  \n",
       "2072508          747                     Belas artes  \n",
       "2072519          784                     Belas artes  \n",
       "\n",
       "[302541 rows x 13 columns]"
      ]
     },
     "execution_count": 26,
     "metadata": {},
     "output_type": "execute_result"
    }
   ],
   "source": [
    "# Dataset para os alunos de pós-graduação\n",
    "\n",
    "pos_graduacao = emprestimos_completo[emprestimos_completo['tipo_vinculo_usuario'] == 'ALUNO DE PÓS-GRADUAÇÃO']\n",
    "\n",
    "# Excluidno as duas primeiras colunas, pois são repetição dos índices\n",
    "pos_graduacao = pos_graduacao.drop(['Unnamed: 0.1', 'Unnamed: 0'], axis=1)\n",
    "pos_graduacao"
   ]
  },
  {
   "cell_type": "markdown",
   "id": "73a4d1f4",
   "metadata": {},
   "source": [
    "# Identificando coleção com maior frequência de empréstimos"
   ]
  },
  {
   "cell_type": "code",
   "execution_count": 27,
   "id": "8beb0818",
   "metadata": {},
   "outputs": [],
   "source": [
    "# Definindo função para gerar as tabelas de frequência de empréstimo de coleção\n",
    "def frequencia_colecao(dataset):\n",
    "    \n",
    "    grouped = (dataset\n",
    "               .groupby('colecao')\n",
    "               .agg({'id_emprestimo': 'count'})\n",
    "              )\n",
    "    grouped.rename(columns={'id_emprestimo': 'quantidade'}, inplace=True)\n",
    "    grouped['percentual'] = round((grouped['quantidade']/grouped['quantidade'].sum())*100, 2)\n",
    "    grouped = grouped.sort_values(by='percentual', ascending=False)\n",
    "    \n",
    "    return grouped"
   ]
  },
  {
   "cell_type": "code",
   "execution_count": 28,
   "id": "98cb7b8e",
   "metadata": {},
   "outputs": [
    {
     "data": {
      "text/html": [
       "<div>\n",
       "<style scoped>\n",
       "    .dataframe tbody tr th:only-of-type {\n",
       "        vertical-align: middle;\n",
       "    }\n",
       "\n",
       "    .dataframe tbody tr th {\n",
       "        vertical-align: top;\n",
       "    }\n",
       "\n",
       "    .dataframe thead th {\n",
       "        text-align: right;\n",
       "    }\n",
       "</style>\n",
       "<table border=\"1\" class=\"dataframe\">\n",
       "  <thead>\n",
       "    <tr style=\"text-align: right;\">\n",
       "      <th></th>\n",
       "      <th>quantidade</th>\n",
       "      <th>percentual</th>\n",
       "    </tr>\n",
       "    <tr>\n",
       "      <th>colecao</th>\n",
       "      <th></th>\n",
       "      <th></th>\n",
       "    </tr>\n",
       "  </thead>\n",
       "  <tbody>\n",
       "    <tr>\n",
       "      <th>Acervo Circulante</th>\n",
       "      <td>1600155</td>\n",
       "      <td>99.25</td>\n",
       "    </tr>\n",
       "    <tr>\n",
       "      <th>Multimeios</th>\n",
       "      <td>4652</td>\n",
       "      <td>0.29</td>\n",
       "    </tr>\n",
       "    <tr>\n",
       "      <th>Monografias</th>\n",
       "      <td>3572</td>\n",
       "      <td>0.22</td>\n",
       "    </tr>\n",
       "    <tr>\n",
       "      <th>Dissertações</th>\n",
       "      <td>1152</td>\n",
       "      <td>0.07</td>\n",
       "    </tr>\n",
       "    <tr>\n",
       "      <th>Obras de Referência</th>\n",
       "      <td>1047</td>\n",
       "      <td>0.06</td>\n",
       "    </tr>\n",
       "    <tr>\n",
       "      <th>Publicações de Autores do RN</th>\n",
       "      <td>595</td>\n",
       "      <td>0.04</td>\n",
       "    </tr>\n",
       "    <tr>\n",
       "      <th>Publicações da UFRN</th>\n",
       "      <td>466</td>\n",
       "      <td>0.03</td>\n",
       "    </tr>\n",
       "    <tr>\n",
       "      <th>Teses</th>\n",
       "      <td>245</td>\n",
       "      <td>0.02</td>\n",
       "    </tr>\n",
       "    <tr>\n",
       "      <th>Folhetos</th>\n",
       "      <td>180</td>\n",
       "      <td>0.01</td>\n",
       "    </tr>\n",
       "    <tr>\n",
       "      <th>Trabalho Acadêmico</th>\n",
       "      <td>81</td>\n",
       "      <td>0.01</td>\n",
       "    </tr>\n",
       "    <tr>\n",
       "      <th>Coleção Mossoroense</th>\n",
       "      <td>17</td>\n",
       "      <td>0.00</td>\n",
       "    </tr>\n",
       "    <tr>\n",
       "      <th>Coleção Zila Mamede</th>\n",
       "      <td>15</td>\n",
       "      <td>0.00</td>\n",
       "    </tr>\n",
       "    <tr>\n",
       "      <th>Eventos</th>\n",
       "      <td>57</td>\n",
       "      <td>0.00</td>\n",
       "    </tr>\n",
       "    <tr>\n",
       "      <th>Literatura de Cordel</th>\n",
       "      <td>11</td>\n",
       "      <td>0.00</td>\n",
       "    </tr>\n",
       "    <tr>\n",
       "      <th>Necessidades Educacionais Específicas</th>\n",
       "      <td>73</td>\n",
       "      <td>0.00</td>\n",
       "    </tr>\n",
       "    <tr>\n",
       "      <th>Obras Raras</th>\n",
       "      <td>6</td>\n",
       "      <td>0.00</td>\n",
       "    </tr>\n",
       "  </tbody>\n",
       "</table>\n",
       "</div>"
      ],
      "text/plain": [
       "                                       quantidade  percentual\n",
       "colecao                                                      \n",
       "Acervo Circulante                         1600155       99.25\n",
       "Multimeios                                   4652        0.29\n",
       "Monografias                                  3572        0.22\n",
       "Dissertações                                 1152        0.07\n",
       "Obras de Referência                          1047        0.06\n",
       "Publicações de Autores do RN                  595        0.04\n",
       "Publicações da UFRN                           466        0.03\n",
       "Teses                                         245        0.02\n",
       "Folhetos                                      180        0.01\n",
       "Trabalho Acadêmico                             81        0.01\n",
       "Coleção Mossoroense                            17        0.00\n",
       "Coleção Zila Mamede                            15        0.00\n",
       "Eventos                                        57        0.00\n",
       "Literatura de Cordel                           11        0.00\n",
       "Necessidades Educacionais Específicas          73        0.00\n",
       "Obras Raras                                     6        0.00"
      ]
     },
     "execution_count": 28,
     "metadata": {},
     "output_type": "execute_result"
    }
   ],
   "source": [
    "# Visualizando frequência para alunos de graduação\n",
    "\n",
    "grad_freq = frequencia_colecao(graduacao)\n",
    "grad_freq"
   ]
  },
  {
   "cell_type": "code",
   "execution_count": 29,
   "id": "b3eaa5b3",
   "metadata": {},
   "outputs": [
    {
     "data": {
      "text/html": [
       "<div>\n",
       "<style scoped>\n",
       "    .dataframe tbody tr th:only-of-type {\n",
       "        vertical-align: middle;\n",
       "    }\n",
       "\n",
       "    .dataframe tbody tr th {\n",
       "        vertical-align: top;\n",
       "    }\n",
       "\n",
       "    .dataframe thead th {\n",
       "        text-align: right;\n",
       "    }\n",
       "</style>\n",
       "<table border=\"1\" class=\"dataframe\">\n",
       "  <thead>\n",
       "    <tr style=\"text-align: right;\">\n",
       "      <th></th>\n",
       "      <th>quantidade</th>\n",
       "      <th>percentual</th>\n",
       "    </tr>\n",
       "    <tr>\n",
       "      <th>colecao</th>\n",
       "      <th></th>\n",
       "      <th></th>\n",
       "    </tr>\n",
       "  </thead>\n",
       "  <tbody>\n",
       "    <tr>\n",
       "      <th>Acervo Circulante</th>\n",
       "      <td>299201</td>\n",
       "      <td>98.90</td>\n",
       "    </tr>\n",
       "    <tr>\n",
       "      <th>Dissertações</th>\n",
       "      <td>934</td>\n",
       "      <td>0.31</td>\n",
       "    </tr>\n",
       "    <tr>\n",
       "      <th>Obras de Referência</th>\n",
       "      <td>700</td>\n",
       "      <td>0.23</td>\n",
       "    </tr>\n",
       "    <tr>\n",
       "      <th>Multimeios</th>\n",
       "      <td>559</td>\n",
       "      <td>0.18</td>\n",
       "    </tr>\n",
       "    <tr>\n",
       "      <th>Teses</th>\n",
       "      <td>367</td>\n",
       "      <td>0.12</td>\n",
       "    </tr>\n",
       "    <tr>\n",
       "      <th>Monografias</th>\n",
       "      <td>278</td>\n",
       "      <td>0.09</td>\n",
       "    </tr>\n",
       "    <tr>\n",
       "      <th>Publicações de Autores do RN</th>\n",
       "      <td>204</td>\n",
       "      <td>0.07</td>\n",
       "    </tr>\n",
       "    <tr>\n",
       "      <th>Publicações da UFRN</th>\n",
       "      <td>121</td>\n",
       "      <td>0.04</td>\n",
       "    </tr>\n",
       "    <tr>\n",
       "      <th>Folhetos</th>\n",
       "      <td>60</td>\n",
       "      <td>0.02</td>\n",
       "    </tr>\n",
       "    <tr>\n",
       "      <th>Coleção Mossoroense</th>\n",
       "      <td>23</td>\n",
       "      <td>0.01</td>\n",
       "    </tr>\n",
       "    <tr>\n",
       "      <th>Eventos</th>\n",
       "      <td>26</td>\n",
       "      <td>0.01</td>\n",
       "    </tr>\n",
       "    <tr>\n",
       "      <th>Necessidades Educacionais Específicas</th>\n",
       "      <td>30</td>\n",
       "      <td>0.01</td>\n",
       "    </tr>\n",
       "    <tr>\n",
       "      <th>Trabalho Acadêmico</th>\n",
       "      <td>23</td>\n",
       "      <td>0.01</td>\n",
       "    </tr>\n",
       "    <tr>\n",
       "      <th>Coleção Zila Mamede</th>\n",
       "      <td>11</td>\n",
       "      <td>0.00</td>\n",
       "    </tr>\n",
       "    <tr>\n",
       "      <th>Literatura de Cordel</th>\n",
       "      <td>4</td>\n",
       "      <td>0.00</td>\n",
       "    </tr>\n",
       "  </tbody>\n",
       "</table>\n",
       "</div>"
      ],
      "text/plain": [
       "                                       quantidade  percentual\n",
       "colecao                                                      \n",
       "Acervo Circulante                          299201       98.90\n",
       "Dissertações                                  934        0.31\n",
       "Obras de Referência                           700        0.23\n",
       "Multimeios                                    559        0.18\n",
       "Teses                                         367        0.12\n",
       "Monografias                                   278        0.09\n",
       "Publicações de Autores do RN                  204        0.07\n",
       "Publicações da UFRN                           121        0.04\n",
       "Folhetos                                       60        0.02\n",
       "Coleção Mossoroense                            23        0.01\n",
       "Eventos                                        26        0.01\n",
       "Necessidades Educacionais Específicas          30        0.01\n",
       "Trabalho Acadêmico                             23        0.01\n",
       "Coleção Zila Mamede                            11        0.00\n",
       "Literatura de Cordel                            4        0.00"
      ]
     },
     "execution_count": 29,
     "metadata": {},
     "output_type": "execute_result"
    }
   ],
   "source": [
    "# Visualizando frequência para alunos de p[os-graduação\n",
    "\n",
    "pos_grad_freq = frequencia_colecao(pos_graduacao)\n",
    "pos_grad_freq"
   ]
  },
  {
   "cell_type": "markdown",
   "id": "fe9dc46a",
   "metadata": {},
   "source": [
    "Tanto para os alunos de graduação, quanto para os de pós-graduação, a coleção com maior número de empréstimos é a do acervo circulante, o que já era de se esperar por conta das análises anteriores."
   ]
  },
  {
   "cell_type": "markdown",
   "id": "286c77d2",
   "metadata": {},
   "source": [
    "# Visualização dos dados de empréstimo por ano para cada tipo de usuário"
   ]
  },
  {
   "cell_type": "code",
   "execution_count": 41,
   "id": "0d2ec37e",
   "metadata": {},
   "outputs": [
    {
     "data": {
      "text/html": [
       "<div>\n",
       "<style scoped>\n",
       "    .dataframe tbody tr th:only-of-type {\n",
       "        vertical-align: middle;\n",
       "    }\n",
       "\n",
       "    .dataframe tbody tr th {\n",
       "        vertical-align: top;\n",
       "    }\n",
       "\n",
       "    .dataframe thead th {\n",
       "        text-align: right;\n",
       "    }\n",
       "</style>\n",
       "<table border=\"1\" class=\"dataframe\">\n",
       "  <thead>\n",
       "    <tr style=\"text-align: right;\">\n",
       "      <th></th>\n",
       "      <th>quantidade</th>\n",
       "      <th>ano</th>\n",
       "      <th>mes</th>\n",
       "    </tr>\n",
       "  </thead>\n",
       "  <tbody>\n",
       "    <tr>\n",
       "      <th>0</th>\n",
       "      <td>2996</td>\n",
       "      <td>2010</td>\n",
       "      <td>01</td>\n",
       "    </tr>\n",
       "    <tr>\n",
       "      <th>1</th>\n",
       "      <td>7769</td>\n",
       "      <td>2010</td>\n",
       "      <td>02</td>\n",
       "    </tr>\n",
       "    <tr>\n",
       "      <th>2</th>\n",
       "      <td>15275</td>\n",
       "      <td>2010</td>\n",
       "      <td>03</td>\n",
       "    </tr>\n",
       "    <tr>\n",
       "      <th>3</th>\n",
       "      <td>12430</td>\n",
       "      <td>2010</td>\n",
       "      <td>04</td>\n",
       "    </tr>\n",
       "    <tr>\n",
       "      <th>4</th>\n",
       "      <td>12164</td>\n",
       "      <td>2010</td>\n",
       "      <td>05</td>\n",
       "    </tr>\n",
       "    <tr>\n",
       "      <th>...</th>\n",
       "      <td>...</td>\n",
       "      <td>...</td>\n",
       "      <td>...</td>\n",
       "    </tr>\n",
       "    <tr>\n",
       "      <th>118</th>\n",
       "      <td>8807</td>\n",
       "      <td>2019</td>\n",
       "      <td>11</td>\n",
       "    </tr>\n",
       "    <tr>\n",
       "      <th>119</th>\n",
       "      <td>1980</td>\n",
       "      <td>2019</td>\n",
       "      <td>12</td>\n",
       "    </tr>\n",
       "    <tr>\n",
       "      <th>120</th>\n",
       "      <td>1781</td>\n",
       "      <td>2020</td>\n",
       "      <td>01</td>\n",
       "    </tr>\n",
       "    <tr>\n",
       "      <th>121</th>\n",
       "      <td>8138</td>\n",
       "      <td>2020</td>\n",
       "      <td>02</td>\n",
       "    </tr>\n",
       "    <tr>\n",
       "      <th>122</th>\n",
       "      <td>8685</td>\n",
       "      <td>2020</td>\n",
       "      <td>03</td>\n",
       "    </tr>\n",
       "  </tbody>\n",
       "</table>\n",
       "<p>123 rows × 3 columns</p>\n",
       "</div>"
      ],
      "text/plain": [
       "     quantidade   ano mes\n",
       "0          2996  2010  01\n",
       "1          7769  2010  02\n",
       "2         15275  2010  03\n",
       "3         12430  2010  04\n",
       "4         12164  2010  05\n",
       "..          ...   ...  ..\n",
       "118        8807  2019  11\n",
       "119        1980  2019  12\n",
       "120        1781  2020  01\n",
       "121        8138  2020  02\n",
       "122        8685  2020  03\n",
       "\n",
       "[123 rows x 3 columns]"
      ]
     },
     "execution_count": 41,
     "metadata": {},
     "output_type": "execute_result"
    }
   ],
   "source": [
    "# Geração da tabela por ano dos empréstimos dos alunos de graduação\n",
    "\n",
    "graduacao['data_emprestimo'] = pd.to_datetime(graduacao['data_emprestimo'])\n",
    "graduacao['data_emprestimo'] = graduacao['data_emprestimo'].dt.strftime('%Y-%m')\n",
    "grad_data = graduacao[graduacao['colecao'] == 'Acervo Circulante']\n",
    "\n",
    "\n",
    "empr_por_ano_grad = (grad_data\n",
    "                    .groupby('data_emprestimo')\n",
    "                    .agg({'id_emprestimo': 'count'})\n",
    "                    )\n",
    "empr_por_ano_grad = empr_por_ano_grad.reset_index()\n",
    "empr_por_ano_grad.rename(columns=({'data_emprestimo': 'ano-mes',\n",
    "                                  'id_emprestimo': 'quantidade'}),\n",
    "                        inplace=True)\n",
    "empr_por_ano_grad['ano'] = empr_por_ano_grad['ano-mes'].str.slice(0,4)\n",
    "empr_por_ano_grad['mes'] = empr_por_ano_grad['ano-mes'].str.slice(5,7)\n",
    "empr_por_ano_grad = empr_por_ano_grad.drop('ano-mes', axis=1)\n",
    "empr_por_ano_grad"
   ]
  },
  {
   "cell_type": "code",
   "execution_count": 43,
   "id": "d033407f",
   "metadata": {},
   "outputs": [
    {
     "data": {
      "application/vnd.plotly.v1+json": {
       "config": {
        "plotlyServerURL": "https://plot.ly"
       },
       "data": [
        {
         "alignmentgroup": "True",
         "hovertemplate": "ano=%{x}<br>quantidade=%{y}<extra></extra>",
         "legendgroup": "",
         "marker": {
          "color": "#636efa"
         },
         "name": "",
         "notched": false,
         "offsetgroup": "",
         "orientation": "v",
         "showlegend": false,
         "type": "box",
         "x": [
          "2010",
          "2010",
          "2010",
          "2010",
          "2010",
          "2010",
          "2010",
          "2010",
          "2010",
          "2010",
          "2010",
          "2010",
          "2011",
          "2011",
          "2011",
          "2011",
          "2011",
          "2011",
          "2011",
          "2011",
          "2011",
          "2011",
          "2011",
          "2011",
          "2012",
          "2012",
          "2012",
          "2012",
          "2012",
          "2012",
          "2012",
          "2012",
          "2012",
          "2012",
          "2012",
          "2012",
          "2013",
          "2013",
          "2013",
          "2013",
          "2013",
          "2013",
          "2013",
          "2013",
          "2013",
          "2013",
          "2013",
          "2013",
          "2014",
          "2014",
          "2014",
          "2014",
          "2014",
          "2014",
          "2014",
          "2014",
          "2014",
          "2014",
          "2014",
          "2014",
          "2015",
          "2015",
          "2015",
          "2015",
          "2015",
          "2015",
          "2015",
          "2015",
          "2015",
          "2015",
          "2015",
          "2015",
          "2016",
          "2016",
          "2016",
          "2016",
          "2016",
          "2016",
          "2016",
          "2016",
          "2016",
          "2016",
          "2016",
          "2016",
          "2017",
          "2017",
          "2017",
          "2017",
          "2017",
          "2017",
          "2017",
          "2017",
          "2017",
          "2017",
          "2017",
          "2017",
          "2018",
          "2018",
          "2018",
          "2018",
          "2018",
          "2018",
          "2018",
          "2018",
          "2018",
          "2018",
          "2018",
          "2018",
          "2019",
          "2019",
          "2019",
          "2019",
          "2019",
          "2019",
          "2019",
          "2019",
          "2019",
          "2019",
          "2019",
          "2019",
          "2020",
          "2020",
          "2020"
         ],
         "x0": " ",
         "xaxis": "x",
         "y": [
          2996,
          7769,
          15275,
          12430,
          12164,
          9761,
          4776,
          14672,
          14763,
          12283,
          11791,
          6180,
          809,
          10454,
          16128,
          14718,
          16386,
          13528,
          6003,
          20393,
          19309,
          15648,
          15363,
          9164,
          4987,
          17310,
          22797,
          19202,
          17951,
          11194,
          3972,
          18898,
          17663,
          18135,
          16688,
          8540,
          5353,
          21356,
          20037,
          21853,
          18310,
          10571,
          11816,
          19257,
          19189,
          16893,
          15162,
          6018,
          12476,
          20460,
          15746,
          14613,
          13445,
          4635,
          14923,
          19452,
          19674,
          17089,
          13690,
          3971,
          4032,
          21435,
          22483,
          18469,
          17078,
          8798,
          10499,
          15508,
          12120,
          13886,
          13855,
          4652,
          2670,
          15628,
          21692,
          15850,
          17629,
          12671,
          10441,
          20746,
          18144,
          13990,
          10016,
          4326,
          2671,
          15641,
          21735,
          15861,
          17633,
          12677,
          10951,
          21031,
          16410,
          14641,
          12721,
          3624,
          2868,
          13100,
          18120,
          16402,
          14689,
          11512,
          6436,
          19452,
          13836,
          13687,
          11599,
          3919,
          2276,
          16865,
          15092,
          13523,
          12469,
          7764,
          10081,
          14914,
          12688,
          11169,
          8807,
          1980,
          1781,
          8138,
          8685
         ],
         "y0": " ",
         "yaxis": "y"
        }
       ],
       "layout": {
        "boxmode": "group",
        "legend": {
         "tracegroupgap": 0
        },
        "template": {
         "data": {
          "bar": [
           {
            "error_x": {
             "color": "#2a3f5f"
            },
            "error_y": {
             "color": "#2a3f5f"
            },
            "marker": {
             "line": {
              "color": "#E5ECF6",
              "width": 0.5
             },
             "pattern": {
              "fillmode": "overlay",
              "size": 10,
              "solidity": 0.2
             }
            },
            "type": "bar"
           }
          ],
          "barpolar": [
           {
            "marker": {
             "line": {
              "color": "#E5ECF6",
              "width": 0.5
             },
             "pattern": {
              "fillmode": "overlay",
              "size": 10,
              "solidity": 0.2
             }
            },
            "type": "barpolar"
           }
          ],
          "carpet": [
           {
            "aaxis": {
             "endlinecolor": "#2a3f5f",
             "gridcolor": "white",
             "linecolor": "white",
             "minorgridcolor": "white",
             "startlinecolor": "#2a3f5f"
            },
            "baxis": {
             "endlinecolor": "#2a3f5f",
             "gridcolor": "white",
             "linecolor": "white",
             "minorgridcolor": "white",
             "startlinecolor": "#2a3f5f"
            },
            "type": "carpet"
           }
          ],
          "choropleth": [
           {
            "colorbar": {
             "outlinewidth": 0,
             "ticks": ""
            },
            "type": "choropleth"
           }
          ],
          "contour": [
           {
            "colorbar": {
             "outlinewidth": 0,
             "ticks": ""
            },
            "colorscale": [
             [
              0,
              "#0d0887"
             ],
             [
              0.1111111111111111,
              "#46039f"
             ],
             [
              0.2222222222222222,
              "#7201a8"
             ],
             [
              0.3333333333333333,
              "#9c179e"
             ],
             [
              0.4444444444444444,
              "#bd3786"
             ],
             [
              0.5555555555555556,
              "#d8576b"
             ],
             [
              0.6666666666666666,
              "#ed7953"
             ],
             [
              0.7777777777777778,
              "#fb9f3a"
             ],
             [
              0.8888888888888888,
              "#fdca26"
             ],
             [
              1,
              "#f0f921"
             ]
            ],
            "type": "contour"
           }
          ],
          "contourcarpet": [
           {
            "colorbar": {
             "outlinewidth": 0,
             "ticks": ""
            },
            "type": "contourcarpet"
           }
          ],
          "heatmap": [
           {
            "colorbar": {
             "outlinewidth": 0,
             "ticks": ""
            },
            "colorscale": [
             [
              0,
              "#0d0887"
             ],
             [
              0.1111111111111111,
              "#46039f"
             ],
             [
              0.2222222222222222,
              "#7201a8"
             ],
             [
              0.3333333333333333,
              "#9c179e"
             ],
             [
              0.4444444444444444,
              "#bd3786"
             ],
             [
              0.5555555555555556,
              "#d8576b"
             ],
             [
              0.6666666666666666,
              "#ed7953"
             ],
             [
              0.7777777777777778,
              "#fb9f3a"
             ],
             [
              0.8888888888888888,
              "#fdca26"
             ],
             [
              1,
              "#f0f921"
             ]
            ],
            "type": "heatmap"
           }
          ],
          "heatmapgl": [
           {
            "colorbar": {
             "outlinewidth": 0,
             "ticks": ""
            },
            "colorscale": [
             [
              0,
              "#0d0887"
             ],
             [
              0.1111111111111111,
              "#46039f"
             ],
             [
              0.2222222222222222,
              "#7201a8"
             ],
             [
              0.3333333333333333,
              "#9c179e"
             ],
             [
              0.4444444444444444,
              "#bd3786"
             ],
             [
              0.5555555555555556,
              "#d8576b"
             ],
             [
              0.6666666666666666,
              "#ed7953"
             ],
             [
              0.7777777777777778,
              "#fb9f3a"
             ],
             [
              0.8888888888888888,
              "#fdca26"
             ],
             [
              1,
              "#f0f921"
             ]
            ],
            "type": "heatmapgl"
           }
          ],
          "histogram": [
           {
            "marker": {
             "pattern": {
              "fillmode": "overlay",
              "size": 10,
              "solidity": 0.2
             }
            },
            "type": "histogram"
           }
          ],
          "histogram2d": [
           {
            "colorbar": {
             "outlinewidth": 0,
             "ticks": ""
            },
            "colorscale": [
             [
              0,
              "#0d0887"
             ],
             [
              0.1111111111111111,
              "#46039f"
             ],
             [
              0.2222222222222222,
              "#7201a8"
             ],
             [
              0.3333333333333333,
              "#9c179e"
             ],
             [
              0.4444444444444444,
              "#bd3786"
             ],
             [
              0.5555555555555556,
              "#d8576b"
             ],
             [
              0.6666666666666666,
              "#ed7953"
             ],
             [
              0.7777777777777778,
              "#fb9f3a"
             ],
             [
              0.8888888888888888,
              "#fdca26"
             ],
             [
              1,
              "#f0f921"
             ]
            ],
            "type": "histogram2d"
           }
          ],
          "histogram2dcontour": [
           {
            "colorbar": {
             "outlinewidth": 0,
             "ticks": ""
            },
            "colorscale": [
             [
              0,
              "#0d0887"
             ],
             [
              0.1111111111111111,
              "#46039f"
             ],
             [
              0.2222222222222222,
              "#7201a8"
             ],
             [
              0.3333333333333333,
              "#9c179e"
             ],
             [
              0.4444444444444444,
              "#bd3786"
             ],
             [
              0.5555555555555556,
              "#d8576b"
             ],
             [
              0.6666666666666666,
              "#ed7953"
             ],
             [
              0.7777777777777778,
              "#fb9f3a"
             ],
             [
              0.8888888888888888,
              "#fdca26"
             ],
             [
              1,
              "#f0f921"
             ]
            ],
            "type": "histogram2dcontour"
           }
          ],
          "mesh3d": [
           {
            "colorbar": {
             "outlinewidth": 0,
             "ticks": ""
            },
            "type": "mesh3d"
           }
          ],
          "parcoords": [
           {
            "line": {
             "colorbar": {
              "outlinewidth": 0,
              "ticks": ""
             }
            },
            "type": "parcoords"
           }
          ],
          "pie": [
           {
            "automargin": true,
            "type": "pie"
           }
          ],
          "scatter": [
           {
            "fillpattern": {
             "fillmode": "overlay",
             "size": 10,
             "solidity": 0.2
            },
            "type": "scatter"
           }
          ],
          "scatter3d": [
           {
            "line": {
             "colorbar": {
              "outlinewidth": 0,
              "ticks": ""
             }
            },
            "marker": {
             "colorbar": {
              "outlinewidth": 0,
              "ticks": ""
             }
            },
            "type": "scatter3d"
           }
          ],
          "scattercarpet": [
           {
            "marker": {
             "colorbar": {
              "outlinewidth": 0,
              "ticks": ""
             }
            },
            "type": "scattercarpet"
           }
          ],
          "scattergeo": [
           {
            "marker": {
             "colorbar": {
              "outlinewidth": 0,
              "ticks": ""
             }
            },
            "type": "scattergeo"
           }
          ],
          "scattergl": [
           {
            "marker": {
             "colorbar": {
              "outlinewidth": 0,
              "ticks": ""
             }
            },
            "type": "scattergl"
           }
          ],
          "scattermapbox": [
           {
            "marker": {
             "colorbar": {
              "outlinewidth": 0,
              "ticks": ""
             }
            },
            "type": "scattermapbox"
           }
          ],
          "scatterpolar": [
           {
            "marker": {
             "colorbar": {
              "outlinewidth": 0,
              "ticks": ""
             }
            },
            "type": "scatterpolar"
           }
          ],
          "scatterpolargl": [
           {
            "marker": {
             "colorbar": {
              "outlinewidth": 0,
              "ticks": ""
             }
            },
            "type": "scatterpolargl"
           }
          ],
          "scatterternary": [
           {
            "marker": {
             "colorbar": {
              "outlinewidth": 0,
              "ticks": ""
             }
            },
            "type": "scatterternary"
           }
          ],
          "surface": [
           {
            "colorbar": {
             "outlinewidth": 0,
             "ticks": ""
            },
            "colorscale": [
             [
              0,
              "#0d0887"
             ],
             [
              0.1111111111111111,
              "#46039f"
             ],
             [
              0.2222222222222222,
              "#7201a8"
             ],
             [
              0.3333333333333333,
              "#9c179e"
             ],
             [
              0.4444444444444444,
              "#bd3786"
             ],
             [
              0.5555555555555556,
              "#d8576b"
             ],
             [
              0.6666666666666666,
              "#ed7953"
             ],
             [
              0.7777777777777778,
              "#fb9f3a"
             ],
             [
              0.8888888888888888,
              "#fdca26"
             ],
             [
              1,
              "#f0f921"
             ]
            ],
            "type": "surface"
           }
          ],
          "table": [
           {
            "cells": {
             "fill": {
              "color": "#EBF0F8"
             },
             "line": {
              "color": "white"
             }
            },
            "header": {
             "fill": {
              "color": "#C8D4E3"
             },
             "line": {
              "color": "white"
             }
            },
            "type": "table"
           }
          ]
         },
         "layout": {
          "annotationdefaults": {
           "arrowcolor": "#2a3f5f",
           "arrowhead": 0,
           "arrowwidth": 1
          },
          "autotypenumbers": "strict",
          "coloraxis": {
           "colorbar": {
            "outlinewidth": 0,
            "ticks": ""
           }
          },
          "colorscale": {
           "diverging": [
            [
             0,
             "#8e0152"
            ],
            [
             0.1,
             "#c51b7d"
            ],
            [
             0.2,
             "#de77ae"
            ],
            [
             0.3,
             "#f1b6da"
            ],
            [
             0.4,
             "#fde0ef"
            ],
            [
             0.5,
             "#f7f7f7"
            ],
            [
             0.6,
             "#e6f5d0"
            ],
            [
             0.7,
             "#b8e186"
            ],
            [
             0.8,
             "#7fbc41"
            ],
            [
             0.9,
             "#4d9221"
            ],
            [
             1,
             "#276419"
            ]
           ],
           "sequential": [
            [
             0,
             "#0d0887"
            ],
            [
             0.1111111111111111,
             "#46039f"
            ],
            [
             0.2222222222222222,
             "#7201a8"
            ],
            [
             0.3333333333333333,
             "#9c179e"
            ],
            [
             0.4444444444444444,
             "#bd3786"
            ],
            [
             0.5555555555555556,
             "#d8576b"
            ],
            [
             0.6666666666666666,
             "#ed7953"
            ],
            [
             0.7777777777777778,
             "#fb9f3a"
            ],
            [
             0.8888888888888888,
             "#fdca26"
            ],
            [
             1,
             "#f0f921"
            ]
           ],
           "sequentialminus": [
            [
             0,
             "#0d0887"
            ],
            [
             0.1111111111111111,
             "#46039f"
            ],
            [
             0.2222222222222222,
             "#7201a8"
            ],
            [
             0.3333333333333333,
             "#9c179e"
            ],
            [
             0.4444444444444444,
             "#bd3786"
            ],
            [
             0.5555555555555556,
             "#d8576b"
            ],
            [
             0.6666666666666666,
             "#ed7953"
            ],
            [
             0.7777777777777778,
             "#fb9f3a"
            ],
            [
             0.8888888888888888,
             "#fdca26"
            ],
            [
             1,
             "#f0f921"
            ]
           ]
          },
          "colorway": [
           "#636efa",
           "#EF553B",
           "#00cc96",
           "#ab63fa",
           "#FFA15A",
           "#19d3f3",
           "#FF6692",
           "#B6E880",
           "#FF97FF",
           "#FECB52"
          ],
          "font": {
           "color": "#2a3f5f"
          },
          "geo": {
           "bgcolor": "white",
           "lakecolor": "white",
           "landcolor": "#E5ECF6",
           "showlakes": true,
           "showland": true,
           "subunitcolor": "white"
          },
          "hoverlabel": {
           "align": "left"
          },
          "hovermode": "closest",
          "mapbox": {
           "style": "light"
          },
          "paper_bgcolor": "white",
          "plot_bgcolor": "#E5ECF6",
          "polar": {
           "angularaxis": {
            "gridcolor": "white",
            "linecolor": "white",
            "ticks": ""
           },
           "bgcolor": "#E5ECF6",
           "radialaxis": {
            "gridcolor": "white",
            "linecolor": "white",
            "ticks": ""
           }
          },
          "scene": {
           "xaxis": {
            "backgroundcolor": "#E5ECF6",
            "gridcolor": "white",
            "gridwidth": 2,
            "linecolor": "white",
            "showbackground": true,
            "ticks": "",
            "zerolinecolor": "white"
           },
           "yaxis": {
            "backgroundcolor": "#E5ECF6",
            "gridcolor": "white",
            "gridwidth": 2,
            "linecolor": "white",
            "showbackground": true,
            "ticks": "",
            "zerolinecolor": "white"
           },
           "zaxis": {
            "backgroundcolor": "#E5ECF6",
            "gridcolor": "white",
            "gridwidth": 2,
            "linecolor": "white",
            "showbackground": true,
            "ticks": "",
            "zerolinecolor": "white"
           }
          },
          "shapedefaults": {
           "line": {
            "color": "#2a3f5f"
           }
          },
          "ternary": {
           "aaxis": {
            "gridcolor": "white",
            "linecolor": "white",
            "ticks": ""
           },
           "baxis": {
            "gridcolor": "white",
            "linecolor": "white",
            "ticks": ""
           },
           "bgcolor": "#E5ECF6",
           "caxis": {
            "gridcolor": "white",
            "linecolor": "white",
            "ticks": ""
           }
          },
          "title": {
           "x": 0.05
          },
          "xaxis": {
           "automargin": true,
           "gridcolor": "white",
           "linecolor": "white",
           "ticks": "",
           "title": {
            "standoff": 15
           },
           "zerolinecolor": "white",
           "zerolinewidth": 2
          },
          "yaxis": {
           "automargin": true,
           "gridcolor": "white",
           "linecolor": "white",
           "ticks": "",
           "title": {
            "standoff": 15
           },
           "zerolinecolor": "white",
           "zerolinewidth": 2
          }
         }
        },
        "title": {
         "text": "Distribuição dos empréstimos mensais para os alunos de graduação"
        },
        "xaxis": {
         "anchor": "y",
         "domain": [
          0,
          1
         ],
         "title": {
          "text": "ano"
         }
        },
        "yaxis": {
         "anchor": "x",
         "domain": [
          0,
          1
         ],
         "title": {
          "text": "quantidade"
         }
        }
       }
      },
      "text/html": [
       "<div>                            <div id=\"f9adfd3b-1b47-4f38-a9e3-b8a4be207ea0\" class=\"plotly-graph-div\" style=\"height:525px; width:100%;\"></div>            <script type=\"text/javascript\">                require([\"plotly\"], function(Plotly) {                    window.PLOTLYENV=window.PLOTLYENV || {};                                    if (document.getElementById(\"f9adfd3b-1b47-4f38-a9e3-b8a4be207ea0\")) {                    Plotly.newPlot(                        \"f9adfd3b-1b47-4f38-a9e3-b8a4be207ea0\",                        [{\"alignmentgroup\":\"True\",\"hovertemplate\":\"ano=%{x}<br>quantidade=%{y}<extra></extra>\",\"legendgroup\":\"\",\"marker\":{\"color\":\"#636efa\"},\"name\":\"\",\"notched\":false,\"offsetgroup\":\"\",\"orientation\":\"v\",\"showlegend\":false,\"x\":[\"2010\",\"2010\",\"2010\",\"2010\",\"2010\",\"2010\",\"2010\",\"2010\",\"2010\",\"2010\",\"2010\",\"2010\",\"2011\",\"2011\",\"2011\",\"2011\",\"2011\",\"2011\",\"2011\",\"2011\",\"2011\",\"2011\",\"2011\",\"2011\",\"2012\",\"2012\",\"2012\",\"2012\",\"2012\",\"2012\",\"2012\",\"2012\",\"2012\",\"2012\",\"2012\",\"2012\",\"2013\",\"2013\",\"2013\",\"2013\",\"2013\",\"2013\",\"2013\",\"2013\",\"2013\",\"2013\",\"2013\",\"2013\",\"2014\",\"2014\",\"2014\",\"2014\",\"2014\",\"2014\",\"2014\",\"2014\",\"2014\",\"2014\",\"2014\",\"2014\",\"2015\",\"2015\",\"2015\",\"2015\",\"2015\",\"2015\",\"2015\",\"2015\",\"2015\",\"2015\",\"2015\",\"2015\",\"2016\",\"2016\",\"2016\",\"2016\",\"2016\",\"2016\",\"2016\",\"2016\",\"2016\",\"2016\",\"2016\",\"2016\",\"2017\",\"2017\",\"2017\",\"2017\",\"2017\",\"2017\",\"2017\",\"2017\",\"2017\",\"2017\",\"2017\",\"2017\",\"2018\",\"2018\",\"2018\",\"2018\",\"2018\",\"2018\",\"2018\",\"2018\",\"2018\",\"2018\",\"2018\",\"2018\",\"2019\",\"2019\",\"2019\",\"2019\",\"2019\",\"2019\",\"2019\",\"2019\",\"2019\",\"2019\",\"2019\",\"2019\",\"2020\",\"2020\",\"2020\"],\"x0\":\" \",\"xaxis\":\"x\",\"y\":[2996,7769,15275,12430,12164,9761,4776,14672,14763,12283,11791,6180,809,10454,16128,14718,16386,13528,6003,20393,19309,15648,15363,9164,4987,17310,22797,19202,17951,11194,3972,18898,17663,18135,16688,8540,5353,21356,20037,21853,18310,10571,11816,19257,19189,16893,15162,6018,12476,20460,15746,14613,13445,4635,14923,19452,19674,17089,13690,3971,4032,21435,22483,18469,17078,8798,10499,15508,12120,13886,13855,4652,2670,15628,21692,15850,17629,12671,10441,20746,18144,13990,10016,4326,2671,15641,21735,15861,17633,12677,10951,21031,16410,14641,12721,3624,2868,13100,18120,16402,14689,11512,6436,19452,13836,13687,11599,3919,2276,16865,15092,13523,12469,7764,10081,14914,12688,11169,8807,1980,1781,8138,8685],\"y0\":\" \",\"yaxis\":\"y\",\"type\":\"box\"}],                        {\"template\":{\"data\":{\"histogram2dcontour\":[{\"type\":\"histogram2dcontour\",\"colorbar\":{\"outlinewidth\":0,\"ticks\":\"\"},\"colorscale\":[[0.0,\"#0d0887\"],[0.1111111111111111,\"#46039f\"],[0.2222222222222222,\"#7201a8\"],[0.3333333333333333,\"#9c179e\"],[0.4444444444444444,\"#bd3786\"],[0.5555555555555556,\"#d8576b\"],[0.6666666666666666,\"#ed7953\"],[0.7777777777777778,\"#fb9f3a\"],[0.8888888888888888,\"#fdca26\"],[1.0,\"#f0f921\"]]}],\"choropleth\":[{\"type\":\"choropleth\",\"colorbar\":{\"outlinewidth\":0,\"ticks\":\"\"}}],\"histogram2d\":[{\"type\":\"histogram2d\",\"colorbar\":{\"outlinewidth\":0,\"ticks\":\"\"},\"colorscale\":[[0.0,\"#0d0887\"],[0.1111111111111111,\"#46039f\"],[0.2222222222222222,\"#7201a8\"],[0.3333333333333333,\"#9c179e\"],[0.4444444444444444,\"#bd3786\"],[0.5555555555555556,\"#d8576b\"],[0.6666666666666666,\"#ed7953\"],[0.7777777777777778,\"#fb9f3a\"],[0.8888888888888888,\"#fdca26\"],[1.0,\"#f0f921\"]]}],\"heatmap\":[{\"type\":\"heatmap\",\"colorbar\":{\"outlinewidth\":0,\"ticks\":\"\"},\"colorscale\":[[0.0,\"#0d0887\"],[0.1111111111111111,\"#46039f\"],[0.2222222222222222,\"#7201a8\"],[0.3333333333333333,\"#9c179e\"],[0.4444444444444444,\"#bd3786\"],[0.5555555555555556,\"#d8576b\"],[0.6666666666666666,\"#ed7953\"],[0.7777777777777778,\"#fb9f3a\"],[0.8888888888888888,\"#fdca26\"],[1.0,\"#f0f921\"]]}],\"heatmapgl\":[{\"type\":\"heatmapgl\",\"colorbar\":{\"outlinewidth\":0,\"ticks\":\"\"},\"colorscale\":[[0.0,\"#0d0887\"],[0.1111111111111111,\"#46039f\"],[0.2222222222222222,\"#7201a8\"],[0.3333333333333333,\"#9c179e\"],[0.4444444444444444,\"#bd3786\"],[0.5555555555555556,\"#d8576b\"],[0.6666666666666666,\"#ed7953\"],[0.7777777777777778,\"#fb9f3a\"],[0.8888888888888888,\"#fdca26\"],[1.0,\"#f0f921\"]]}],\"contourcarpet\":[{\"type\":\"contourcarpet\",\"colorbar\":{\"outlinewidth\":0,\"ticks\":\"\"}}],\"contour\":[{\"type\":\"contour\",\"colorbar\":{\"outlinewidth\":0,\"ticks\":\"\"},\"colorscale\":[[0.0,\"#0d0887\"],[0.1111111111111111,\"#46039f\"],[0.2222222222222222,\"#7201a8\"],[0.3333333333333333,\"#9c179e\"],[0.4444444444444444,\"#bd3786\"],[0.5555555555555556,\"#d8576b\"],[0.6666666666666666,\"#ed7953\"],[0.7777777777777778,\"#fb9f3a\"],[0.8888888888888888,\"#fdca26\"],[1.0,\"#f0f921\"]]}],\"surface\":[{\"type\":\"surface\",\"colorbar\":{\"outlinewidth\":0,\"ticks\":\"\"},\"colorscale\":[[0.0,\"#0d0887\"],[0.1111111111111111,\"#46039f\"],[0.2222222222222222,\"#7201a8\"],[0.3333333333333333,\"#9c179e\"],[0.4444444444444444,\"#bd3786\"],[0.5555555555555556,\"#d8576b\"],[0.6666666666666666,\"#ed7953\"],[0.7777777777777778,\"#fb9f3a\"],[0.8888888888888888,\"#fdca26\"],[1.0,\"#f0f921\"]]}],\"mesh3d\":[{\"type\":\"mesh3d\",\"colorbar\":{\"outlinewidth\":0,\"ticks\":\"\"}}],\"scatter\":[{\"fillpattern\":{\"fillmode\":\"overlay\",\"size\":10,\"solidity\":0.2},\"type\":\"scatter\"}],\"parcoords\":[{\"type\":\"parcoords\",\"line\":{\"colorbar\":{\"outlinewidth\":0,\"ticks\":\"\"}}}],\"scatterpolargl\":[{\"type\":\"scatterpolargl\",\"marker\":{\"colorbar\":{\"outlinewidth\":0,\"ticks\":\"\"}}}],\"bar\":[{\"error_x\":{\"color\":\"#2a3f5f\"},\"error_y\":{\"color\":\"#2a3f5f\"},\"marker\":{\"line\":{\"color\":\"#E5ECF6\",\"width\":0.5},\"pattern\":{\"fillmode\":\"overlay\",\"size\":10,\"solidity\":0.2}},\"type\":\"bar\"}],\"scattergeo\":[{\"type\":\"scattergeo\",\"marker\":{\"colorbar\":{\"outlinewidth\":0,\"ticks\":\"\"}}}],\"scatterpolar\":[{\"type\":\"scatterpolar\",\"marker\":{\"colorbar\":{\"outlinewidth\":0,\"ticks\":\"\"}}}],\"histogram\":[{\"marker\":{\"pattern\":{\"fillmode\":\"overlay\",\"size\":10,\"solidity\":0.2}},\"type\":\"histogram\"}],\"scattergl\":[{\"type\":\"scattergl\",\"marker\":{\"colorbar\":{\"outlinewidth\":0,\"ticks\":\"\"}}}],\"scatter3d\":[{\"type\":\"scatter3d\",\"line\":{\"colorbar\":{\"outlinewidth\":0,\"ticks\":\"\"}},\"marker\":{\"colorbar\":{\"outlinewidth\":0,\"ticks\":\"\"}}}],\"scattermapbox\":[{\"type\":\"scattermapbox\",\"marker\":{\"colorbar\":{\"outlinewidth\":0,\"ticks\":\"\"}}}],\"scatterternary\":[{\"type\":\"scatterternary\",\"marker\":{\"colorbar\":{\"outlinewidth\":0,\"ticks\":\"\"}}}],\"scattercarpet\":[{\"type\":\"scattercarpet\",\"marker\":{\"colorbar\":{\"outlinewidth\":0,\"ticks\":\"\"}}}],\"carpet\":[{\"aaxis\":{\"endlinecolor\":\"#2a3f5f\",\"gridcolor\":\"white\",\"linecolor\":\"white\",\"minorgridcolor\":\"white\",\"startlinecolor\":\"#2a3f5f\"},\"baxis\":{\"endlinecolor\":\"#2a3f5f\",\"gridcolor\":\"white\",\"linecolor\":\"white\",\"minorgridcolor\":\"white\",\"startlinecolor\":\"#2a3f5f\"},\"type\":\"carpet\"}],\"table\":[{\"cells\":{\"fill\":{\"color\":\"#EBF0F8\"},\"line\":{\"color\":\"white\"}},\"header\":{\"fill\":{\"color\":\"#C8D4E3\"},\"line\":{\"color\":\"white\"}},\"type\":\"table\"}],\"barpolar\":[{\"marker\":{\"line\":{\"color\":\"#E5ECF6\",\"width\":0.5},\"pattern\":{\"fillmode\":\"overlay\",\"size\":10,\"solidity\":0.2}},\"type\":\"barpolar\"}],\"pie\":[{\"automargin\":true,\"type\":\"pie\"}]},\"layout\":{\"autotypenumbers\":\"strict\",\"colorway\":[\"#636efa\",\"#EF553B\",\"#00cc96\",\"#ab63fa\",\"#FFA15A\",\"#19d3f3\",\"#FF6692\",\"#B6E880\",\"#FF97FF\",\"#FECB52\"],\"font\":{\"color\":\"#2a3f5f\"},\"hovermode\":\"closest\",\"hoverlabel\":{\"align\":\"left\"},\"paper_bgcolor\":\"white\",\"plot_bgcolor\":\"#E5ECF6\",\"polar\":{\"bgcolor\":\"#E5ECF6\",\"angularaxis\":{\"gridcolor\":\"white\",\"linecolor\":\"white\",\"ticks\":\"\"},\"radialaxis\":{\"gridcolor\":\"white\",\"linecolor\":\"white\",\"ticks\":\"\"}},\"ternary\":{\"bgcolor\":\"#E5ECF6\",\"aaxis\":{\"gridcolor\":\"white\",\"linecolor\":\"white\",\"ticks\":\"\"},\"baxis\":{\"gridcolor\":\"white\",\"linecolor\":\"white\",\"ticks\":\"\"},\"caxis\":{\"gridcolor\":\"white\",\"linecolor\":\"white\",\"ticks\":\"\"}},\"coloraxis\":{\"colorbar\":{\"outlinewidth\":0,\"ticks\":\"\"}},\"colorscale\":{\"sequential\":[[0.0,\"#0d0887\"],[0.1111111111111111,\"#46039f\"],[0.2222222222222222,\"#7201a8\"],[0.3333333333333333,\"#9c179e\"],[0.4444444444444444,\"#bd3786\"],[0.5555555555555556,\"#d8576b\"],[0.6666666666666666,\"#ed7953\"],[0.7777777777777778,\"#fb9f3a\"],[0.8888888888888888,\"#fdca26\"],[1.0,\"#f0f921\"]],\"sequentialminus\":[[0.0,\"#0d0887\"],[0.1111111111111111,\"#46039f\"],[0.2222222222222222,\"#7201a8\"],[0.3333333333333333,\"#9c179e\"],[0.4444444444444444,\"#bd3786\"],[0.5555555555555556,\"#d8576b\"],[0.6666666666666666,\"#ed7953\"],[0.7777777777777778,\"#fb9f3a\"],[0.8888888888888888,\"#fdca26\"],[1.0,\"#f0f921\"]],\"diverging\":[[0,\"#8e0152\"],[0.1,\"#c51b7d\"],[0.2,\"#de77ae\"],[0.3,\"#f1b6da\"],[0.4,\"#fde0ef\"],[0.5,\"#f7f7f7\"],[0.6,\"#e6f5d0\"],[0.7,\"#b8e186\"],[0.8,\"#7fbc41\"],[0.9,\"#4d9221\"],[1,\"#276419\"]]},\"xaxis\":{\"gridcolor\":\"white\",\"linecolor\":\"white\",\"ticks\":\"\",\"title\":{\"standoff\":15},\"zerolinecolor\":\"white\",\"automargin\":true,\"zerolinewidth\":2},\"yaxis\":{\"gridcolor\":\"white\",\"linecolor\":\"white\",\"ticks\":\"\",\"title\":{\"standoff\":15},\"zerolinecolor\":\"white\",\"automargin\":true,\"zerolinewidth\":2},\"scene\":{\"xaxis\":{\"backgroundcolor\":\"#E5ECF6\",\"gridcolor\":\"white\",\"linecolor\":\"white\",\"showbackground\":true,\"ticks\":\"\",\"zerolinecolor\":\"white\",\"gridwidth\":2},\"yaxis\":{\"backgroundcolor\":\"#E5ECF6\",\"gridcolor\":\"white\",\"linecolor\":\"white\",\"showbackground\":true,\"ticks\":\"\",\"zerolinecolor\":\"white\",\"gridwidth\":2},\"zaxis\":{\"backgroundcolor\":\"#E5ECF6\",\"gridcolor\":\"white\",\"linecolor\":\"white\",\"showbackground\":true,\"ticks\":\"\",\"zerolinecolor\":\"white\",\"gridwidth\":2}},\"shapedefaults\":{\"line\":{\"color\":\"#2a3f5f\"}},\"annotationdefaults\":{\"arrowcolor\":\"#2a3f5f\",\"arrowhead\":0,\"arrowwidth\":1},\"geo\":{\"bgcolor\":\"white\",\"landcolor\":\"#E5ECF6\",\"subunitcolor\":\"white\",\"showland\":true,\"showlakes\":true,\"lakecolor\":\"white\"},\"title\":{\"x\":0.05},\"mapbox\":{\"style\":\"light\"}}},\"xaxis\":{\"anchor\":\"y\",\"domain\":[0.0,1.0],\"title\":{\"text\":\"ano\"}},\"yaxis\":{\"anchor\":\"x\",\"domain\":[0.0,1.0],\"title\":{\"text\":\"quantidade\"}},\"legend\":{\"tracegroupgap\":0},\"title\":{\"text\":\"Distribuição dos empréstimos mensais para os alunos de graduação\"},\"boxmode\":\"group\"},                        {\"responsive\": true}                    ).then(function(){\n",
       "                            \n",
       "var gd = document.getElementById('f9adfd3b-1b47-4f38-a9e3-b8a4be207ea0');\n",
       "var x = new MutationObserver(function (mutations, observer) {{\n",
       "        var display = window.getComputedStyle(gd).display;\n",
       "        if (!display || display === 'none') {{\n",
       "            console.log([gd, 'removed!']);\n",
       "            Plotly.purge(gd);\n",
       "            observer.disconnect();\n",
       "        }}\n",
       "}});\n",
       "\n",
       "// Listen for the removal of the full notebook cells\n",
       "var notebookContainer = gd.closest('#notebook-container');\n",
       "if (notebookContainer) {{\n",
       "    x.observe(notebookContainer, {childList: true});\n",
       "}}\n",
       "\n",
       "// Listen for the clearing of the current output cell\n",
       "var outputEl = gd.closest('.output');\n",
       "if (outputEl) {{\n",
       "    x.observe(outputEl, {childList: true});\n",
       "}}\n",
       "\n",
       "                        })                };                });            </script>        </div>"
      ]
     },
     "metadata": {},
     "output_type": "display_data"
    }
   ],
   "source": [
    "# Visualização do gráfico dos dados\n",
    "\n",
    "fig = px.box(\n",
    "    empr_por_ano_grad,\n",
    "    x='ano',\n",
    "    y='quantidade',\n",
    "    title='Distribuição dos empréstimos mensais para os alunos de graduação'\n",
    ")\n",
    "\n",
    "fig.show()"
   ]
  },
  {
   "cell_type": "markdown",
   "id": "e8b77193",
   "metadata": {},
   "source": [
    "Ao analisar o gráifco, é possível perceber até 2013 um aumento no número de empréstimos de livros, que a partir de então começa a diminuir, com uma queda maior a partir de 2018.\n",
    "\n",
    "É possível perceber também que, com exceção dos outliers, nos anos de 2014 e 2017 a quantidade de empréstimos, no geral, teve quantidades altas durantes os meses, com valores acima do 10.000 empréstimos por mês, além da baixa variação e dentro de valores altos. Portanto, é valido a biblioteca buscar entender o que houve de diferente nesses anos, para entender o porquê dos números, a fim de replicar nos anos seguintes para aumentar a quantidade de empréstimos."
   ]
  },
  {
   "cell_type": "code",
   "execution_count": 44,
   "id": "3e5c4176",
   "metadata": {},
   "outputs": [
    {
     "data": {
      "text/html": [
       "<div>\n",
       "<style scoped>\n",
       "    .dataframe tbody tr th:only-of-type {\n",
       "        vertical-align: middle;\n",
       "    }\n",
       "\n",
       "    .dataframe tbody tr th {\n",
       "        vertical-align: top;\n",
       "    }\n",
       "\n",
       "    .dataframe thead th {\n",
       "        text-align: right;\n",
       "    }\n",
       "</style>\n",
       "<table border=\"1\" class=\"dataframe\">\n",
       "  <thead>\n",
       "    <tr style=\"text-align: right;\">\n",
       "      <th></th>\n",
       "      <th>quantidade</th>\n",
       "      <th>ano</th>\n",
       "      <th>mes</th>\n",
       "    </tr>\n",
       "  </thead>\n",
       "  <tbody>\n",
       "    <tr>\n",
       "      <th>0</th>\n",
       "      <td>1105</td>\n",
       "      <td>2010</td>\n",
       "      <td>01</td>\n",
       "    </tr>\n",
       "    <tr>\n",
       "      <th>1</th>\n",
       "      <td>1474</td>\n",
       "      <td>2010</td>\n",
       "      <td>02</td>\n",
       "    </tr>\n",
       "    <tr>\n",
       "      <th>2</th>\n",
       "      <td>2919</td>\n",
       "      <td>2010</td>\n",
       "      <td>03</td>\n",
       "    </tr>\n",
       "    <tr>\n",
       "      <th>3</th>\n",
       "      <td>2716</td>\n",
       "      <td>2010</td>\n",
       "      <td>04</td>\n",
       "    </tr>\n",
       "    <tr>\n",
       "      <th>4</th>\n",
       "      <td>2514</td>\n",
       "      <td>2010</td>\n",
       "      <td>05</td>\n",
       "    </tr>\n",
       "    <tr>\n",
       "      <th>...</th>\n",
       "      <td>...</td>\n",
       "      <td>...</td>\n",
       "      <td>...</td>\n",
       "    </tr>\n",
       "    <tr>\n",
       "      <th>119</th>\n",
       "      <td>1069</td>\n",
       "      <td>2019</td>\n",
       "      <td>12</td>\n",
       "    </tr>\n",
       "    <tr>\n",
       "      <th>120</th>\n",
       "      <td>1143</td>\n",
       "      <td>2020</td>\n",
       "      <td>01</td>\n",
       "    </tr>\n",
       "    <tr>\n",
       "      <th>121</th>\n",
       "      <td>1189</td>\n",
       "      <td>2020</td>\n",
       "      <td>02</td>\n",
       "    </tr>\n",
       "    <tr>\n",
       "      <th>122</th>\n",
       "      <td>1471</td>\n",
       "      <td>2020</td>\n",
       "      <td>03</td>\n",
       "    </tr>\n",
       "    <tr>\n",
       "      <th>123</th>\n",
       "      <td>2</td>\n",
       "      <td>2020</td>\n",
       "      <td>06</td>\n",
       "    </tr>\n",
       "  </tbody>\n",
       "</table>\n",
       "<p>124 rows × 3 columns</p>\n",
       "</div>"
      ],
      "text/plain": [
       "     quantidade   ano mes\n",
       "0          1105  2010  01\n",
       "1          1474  2010  02\n",
       "2          2919  2010  03\n",
       "3          2716  2010  04\n",
       "4          2514  2010  05\n",
       "..          ...   ...  ..\n",
       "119        1069  2019  12\n",
       "120        1143  2020  01\n",
       "121        1189  2020  02\n",
       "122        1471  2020  03\n",
       "123           2  2020  06\n",
       "\n",
       "[124 rows x 3 columns]"
      ]
     },
     "execution_count": 44,
     "metadata": {},
     "output_type": "execute_result"
    }
   ],
   "source": [
    "# Geração da tabela por ano dos empréstimos dos alunos de graduação\n",
    "\n",
    "pos_graduacao['data_emprestimo'] = pd.to_datetime(pos_graduacao['data_emprestimo'])\n",
    "pos_graduacao['data_emprestimo'] = pos_graduacao['data_emprestimo'].dt.strftime('%Y-%m')\n",
    "pos_grad_data = pos_graduacao[pos_graduacao['colecao'] == 'Acervo Circulante']\n",
    "\n",
    "\n",
    "empr_por_ano_pos_grad = (pos_grad_data\n",
    "                    .groupby('data_emprestimo')\n",
    "                    .agg({'id_emprestimo': 'count'})\n",
    "                    )\n",
    "empr_por_ano_pos_grad = empr_por_ano_pos_grad.reset_index()\n",
    "empr_por_ano_pos_grad.rename(columns=({'data_emprestimo': 'ano-mes',\n",
    "                                  'id_emprestimo': 'quantidade'}),\n",
    "                        inplace=True)\n",
    "empr_por_ano_pos_grad['ano'] = empr_por_ano_pos_grad['ano-mes'].str.slice(0,4)\n",
    "empr_por_ano_pos_grad['mes'] = empr_por_ano_pos_grad['ano-mes'].str.slice(5,7)\n",
    "empr_por_ano_pos_grad = empr_por_ano_pos_grad.drop('ano-mes', axis=1)\n",
    "empr_por_ano_pos_grad"
   ]
  },
  {
   "cell_type": "code",
   "execution_count": 45,
   "id": "38480a5f",
   "metadata": {},
   "outputs": [
    {
     "data": {
      "application/vnd.plotly.v1+json": {
       "config": {
        "plotlyServerURL": "https://plot.ly"
       },
       "data": [
        {
         "alignmentgroup": "True",
         "hovertemplate": "ano=%{x}<br>quantidade=%{y}<extra></extra>",
         "legendgroup": "",
         "marker": {
          "color": "#636efa"
         },
         "name": "",
         "notched": false,
         "offsetgroup": "",
         "orientation": "v",
         "showlegend": false,
         "type": "box",
         "x": [
          "2010",
          "2010",
          "2010",
          "2010",
          "2010",
          "2010",
          "2010",
          "2010",
          "2010",
          "2010",
          "2010",
          "2010",
          "2011",
          "2011",
          "2011",
          "2011",
          "2011",
          "2011",
          "2011",
          "2011",
          "2011",
          "2011",
          "2011",
          "2011",
          "2012",
          "2012",
          "2012",
          "2012",
          "2012",
          "2012",
          "2012",
          "2012",
          "2012",
          "2012",
          "2012",
          "2012",
          "2013",
          "2013",
          "2013",
          "2013",
          "2013",
          "2013",
          "2013",
          "2013",
          "2013",
          "2013",
          "2013",
          "2013",
          "2014",
          "2014",
          "2014",
          "2014",
          "2014",
          "2014",
          "2014",
          "2014",
          "2014",
          "2014",
          "2014",
          "2014",
          "2015",
          "2015",
          "2015",
          "2015",
          "2015",
          "2015",
          "2015",
          "2015",
          "2015",
          "2015",
          "2015",
          "2015",
          "2016",
          "2016",
          "2016",
          "2016",
          "2016",
          "2016",
          "2016",
          "2016",
          "2016",
          "2016",
          "2016",
          "2016",
          "2017",
          "2017",
          "2017",
          "2017",
          "2017",
          "2017",
          "2017",
          "2017",
          "2017",
          "2017",
          "2017",
          "2017",
          "2018",
          "2018",
          "2018",
          "2018",
          "2018",
          "2018",
          "2018",
          "2018",
          "2018",
          "2018",
          "2018",
          "2018",
          "2019",
          "2019",
          "2019",
          "2019",
          "2019",
          "2019",
          "2019",
          "2019",
          "2019",
          "2019",
          "2019",
          "2019",
          "2020",
          "2020",
          "2020",
          "2020"
         ],
         "x0": " ",
         "xaxis": "x",
         "y": [
          1105,
          1474,
          2919,
          2716,
          2514,
          1920,
          1522,
          2222,
          2297,
          2026,
          1782,
          1275,
          465,
          1563,
          2573,
          2431,
          2591,
          2095,
          1945,
          2818,
          2595,
          2340,
          2030,
          1903,
          1714,
          2217,
          3575,
          2956,
          2993,
          2025,
          1566,
          2351,
          2341,
          2553,
          2370,
          1691,
          1753,
          2445,
          3274,
          3186,
          2921,
          2104,
          2767,
          3110,
          3181,
          2791,
          2528,
          2108,
          2316,
          3583,
          3204,
          3010,
          2690,
          1605,
          2571,
          3101,
          3180,
          2904,
          2325,
          1970,
          1785,
          3086,
          3927,
          3315,
          3120,
          2774,
          2661,
          2977,
          2506,
          2711,
          2423,
          1701,
          1646,
          2328,
          3711,
          2720,
          3115,
          3049,
          2378,
          3662,
          3483,
          2753,
          2059,
          1692,
          1649,
          2332,
          3722,
          2724,
          3125,
          3059,
          2339,
          3837,
          2849,
          2705,
          2376,
          1582,
          1545,
          2229,
          3518,
          3290,
          2914,
          2376,
          1868,
          3068,
          2451,
          2389,
          2049,
          1382,
          1601,
          2379,
          2922,
          2836,
          2593,
          2049,
          2037,
          2848,
          2307,
          2082,
          1613,
          1069,
          1143,
          1189,
          1471,
          2
         ],
         "y0": " ",
         "yaxis": "y"
        }
       ],
       "layout": {
        "boxmode": "group",
        "legend": {
         "tracegroupgap": 0
        },
        "template": {
         "data": {
          "bar": [
           {
            "error_x": {
             "color": "#2a3f5f"
            },
            "error_y": {
             "color": "#2a3f5f"
            },
            "marker": {
             "line": {
              "color": "#E5ECF6",
              "width": 0.5
             },
             "pattern": {
              "fillmode": "overlay",
              "size": 10,
              "solidity": 0.2
             }
            },
            "type": "bar"
           }
          ],
          "barpolar": [
           {
            "marker": {
             "line": {
              "color": "#E5ECF6",
              "width": 0.5
             },
             "pattern": {
              "fillmode": "overlay",
              "size": 10,
              "solidity": 0.2
             }
            },
            "type": "barpolar"
           }
          ],
          "carpet": [
           {
            "aaxis": {
             "endlinecolor": "#2a3f5f",
             "gridcolor": "white",
             "linecolor": "white",
             "minorgridcolor": "white",
             "startlinecolor": "#2a3f5f"
            },
            "baxis": {
             "endlinecolor": "#2a3f5f",
             "gridcolor": "white",
             "linecolor": "white",
             "minorgridcolor": "white",
             "startlinecolor": "#2a3f5f"
            },
            "type": "carpet"
           }
          ],
          "choropleth": [
           {
            "colorbar": {
             "outlinewidth": 0,
             "ticks": ""
            },
            "type": "choropleth"
           }
          ],
          "contour": [
           {
            "colorbar": {
             "outlinewidth": 0,
             "ticks": ""
            },
            "colorscale": [
             [
              0,
              "#0d0887"
             ],
             [
              0.1111111111111111,
              "#46039f"
             ],
             [
              0.2222222222222222,
              "#7201a8"
             ],
             [
              0.3333333333333333,
              "#9c179e"
             ],
             [
              0.4444444444444444,
              "#bd3786"
             ],
             [
              0.5555555555555556,
              "#d8576b"
             ],
             [
              0.6666666666666666,
              "#ed7953"
             ],
             [
              0.7777777777777778,
              "#fb9f3a"
             ],
             [
              0.8888888888888888,
              "#fdca26"
             ],
             [
              1,
              "#f0f921"
             ]
            ],
            "type": "contour"
           }
          ],
          "contourcarpet": [
           {
            "colorbar": {
             "outlinewidth": 0,
             "ticks": ""
            },
            "type": "contourcarpet"
           }
          ],
          "heatmap": [
           {
            "colorbar": {
             "outlinewidth": 0,
             "ticks": ""
            },
            "colorscale": [
             [
              0,
              "#0d0887"
             ],
             [
              0.1111111111111111,
              "#46039f"
             ],
             [
              0.2222222222222222,
              "#7201a8"
             ],
             [
              0.3333333333333333,
              "#9c179e"
             ],
             [
              0.4444444444444444,
              "#bd3786"
             ],
             [
              0.5555555555555556,
              "#d8576b"
             ],
             [
              0.6666666666666666,
              "#ed7953"
             ],
             [
              0.7777777777777778,
              "#fb9f3a"
             ],
             [
              0.8888888888888888,
              "#fdca26"
             ],
             [
              1,
              "#f0f921"
             ]
            ],
            "type": "heatmap"
           }
          ],
          "heatmapgl": [
           {
            "colorbar": {
             "outlinewidth": 0,
             "ticks": ""
            },
            "colorscale": [
             [
              0,
              "#0d0887"
             ],
             [
              0.1111111111111111,
              "#46039f"
             ],
             [
              0.2222222222222222,
              "#7201a8"
             ],
             [
              0.3333333333333333,
              "#9c179e"
             ],
             [
              0.4444444444444444,
              "#bd3786"
             ],
             [
              0.5555555555555556,
              "#d8576b"
             ],
             [
              0.6666666666666666,
              "#ed7953"
             ],
             [
              0.7777777777777778,
              "#fb9f3a"
             ],
             [
              0.8888888888888888,
              "#fdca26"
             ],
             [
              1,
              "#f0f921"
             ]
            ],
            "type": "heatmapgl"
           }
          ],
          "histogram": [
           {
            "marker": {
             "pattern": {
              "fillmode": "overlay",
              "size": 10,
              "solidity": 0.2
             }
            },
            "type": "histogram"
           }
          ],
          "histogram2d": [
           {
            "colorbar": {
             "outlinewidth": 0,
             "ticks": ""
            },
            "colorscale": [
             [
              0,
              "#0d0887"
             ],
             [
              0.1111111111111111,
              "#46039f"
             ],
             [
              0.2222222222222222,
              "#7201a8"
             ],
             [
              0.3333333333333333,
              "#9c179e"
             ],
             [
              0.4444444444444444,
              "#bd3786"
             ],
             [
              0.5555555555555556,
              "#d8576b"
             ],
             [
              0.6666666666666666,
              "#ed7953"
             ],
             [
              0.7777777777777778,
              "#fb9f3a"
             ],
             [
              0.8888888888888888,
              "#fdca26"
             ],
             [
              1,
              "#f0f921"
             ]
            ],
            "type": "histogram2d"
           }
          ],
          "histogram2dcontour": [
           {
            "colorbar": {
             "outlinewidth": 0,
             "ticks": ""
            },
            "colorscale": [
             [
              0,
              "#0d0887"
             ],
             [
              0.1111111111111111,
              "#46039f"
             ],
             [
              0.2222222222222222,
              "#7201a8"
             ],
             [
              0.3333333333333333,
              "#9c179e"
             ],
             [
              0.4444444444444444,
              "#bd3786"
             ],
             [
              0.5555555555555556,
              "#d8576b"
             ],
             [
              0.6666666666666666,
              "#ed7953"
             ],
             [
              0.7777777777777778,
              "#fb9f3a"
             ],
             [
              0.8888888888888888,
              "#fdca26"
             ],
             [
              1,
              "#f0f921"
             ]
            ],
            "type": "histogram2dcontour"
           }
          ],
          "mesh3d": [
           {
            "colorbar": {
             "outlinewidth": 0,
             "ticks": ""
            },
            "type": "mesh3d"
           }
          ],
          "parcoords": [
           {
            "line": {
             "colorbar": {
              "outlinewidth": 0,
              "ticks": ""
             }
            },
            "type": "parcoords"
           }
          ],
          "pie": [
           {
            "automargin": true,
            "type": "pie"
           }
          ],
          "scatter": [
           {
            "fillpattern": {
             "fillmode": "overlay",
             "size": 10,
             "solidity": 0.2
            },
            "type": "scatter"
           }
          ],
          "scatter3d": [
           {
            "line": {
             "colorbar": {
              "outlinewidth": 0,
              "ticks": ""
             }
            },
            "marker": {
             "colorbar": {
              "outlinewidth": 0,
              "ticks": ""
             }
            },
            "type": "scatter3d"
           }
          ],
          "scattercarpet": [
           {
            "marker": {
             "colorbar": {
              "outlinewidth": 0,
              "ticks": ""
             }
            },
            "type": "scattercarpet"
           }
          ],
          "scattergeo": [
           {
            "marker": {
             "colorbar": {
              "outlinewidth": 0,
              "ticks": ""
             }
            },
            "type": "scattergeo"
           }
          ],
          "scattergl": [
           {
            "marker": {
             "colorbar": {
              "outlinewidth": 0,
              "ticks": ""
             }
            },
            "type": "scattergl"
           }
          ],
          "scattermapbox": [
           {
            "marker": {
             "colorbar": {
              "outlinewidth": 0,
              "ticks": ""
             }
            },
            "type": "scattermapbox"
           }
          ],
          "scatterpolar": [
           {
            "marker": {
             "colorbar": {
              "outlinewidth": 0,
              "ticks": ""
             }
            },
            "type": "scatterpolar"
           }
          ],
          "scatterpolargl": [
           {
            "marker": {
             "colorbar": {
              "outlinewidth": 0,
              "ticks": ""
             }
            },
            "type": "scatterpolargl"
           }
          ],
          "scatterternary": [
           {
            "marker": {
             "colorbar": {
              "outlinewidth": 0,
              "ticks": ""
             }
            },
            "type": "scatterternary"
           }
          ],
          "surface": [
           {
            "colorbar": {
             "outlinewidth": 0,
             "ticks": ""
            },
            "colorscale": [
             [
              0,
              "#0d0887"
             ],
             [
              0.1111111111111111,
              "#46039f"
             ],
             [
              0.2222222222222222,
              "#7201a8"
             ],
             [
              0.3333333333333333,
              "#9c179e"
             ],
             [
              0.4444444444444444,
              "#bd3786"
             ],
             [
              0.5555555555555556,
              "#d8576b"
             ],
             [
              0.6666666666666666,
              "#ed7953"
             ],
             [
              0.7777777777777778,
              "#fb9f3a"
             ],
             [
              0.8888888888888888,
              "#fdca26"
             ],
             [
              1,
              "#f0f921"
             ]
            ],
            "type": "surface"
           }
          ],
          "table": [
           {
            "cells": {
             "fill": {
              "color": "#EBF0F8"
             },
             "line": {
              "color": "white"
             }
            },
            "header": {
             "fill": {
              "color": "#C8D4E3"
             },
             "line": {
              "color": "white"
             }
            },
            "type": "table"
           }
          ]
         },
         "layout": {
          "annotationdefaults": {
           "arrowcolor": "#2a3f5f",
           "arrowhead": 0,
           "arrowwidth": 1
          },
          "autotypenumbers": "strict",
          "coloraxis": {
           "colorbar": {
            "outlinewidth": 0,
            "ticks": ""
           }
          },
          "colorscale": {
           "diverging": [
            [
             0,
             "#8e0152"
            ],
            [
             0.1,
             "#c51b7d"
            ],
            [
             0.2,
             "#de77ae"
            ],
            [
             0.3,
             "#f1b6da"
            ],
            [
             0.4,
             "#fde0ef"
            ],
            [
             0.5,
             "#f7f7f7"
            ],
            [
             0.6,
             "#e6f5d0"
            ],
            [
             0.7,
             "#b8e186"
            ],
            [
             0.8,
             "#7fbc41"
            ],
            [
             0.9,
             "#4d9221"
            ],
            [
             1,
             "#276419"
            ]
           ],
           "sequential": [
            [
             0,
             "#0d0887"
            ],
            [
             0.1111111111111111,
             "#46039f"
            ],
            [
             0.2222222222222222,
             "#7201a8"
            ],
            [
             0.3333333333333333,
             "#9c179e"
            ],
            [
             0.4444444444444444,
             "#bd3786"
            ],
            [
             0.5555555555555556,
             "#d8576b"
            ],
            [
             0.6666666666666666,
             "#ed7953"
            ],
            [
             0.7777777777777778,
             "#fb9f3a"
            ],
            [
             0.8888888888888888,
             "#fdca26"
            ],
            [
             1,
             "#f0f921"
            ]
           ],
           "sequentialminus": [
            [
             0,
             "#0d0887"
            ],
            [
             0.1111111111111111,
             "#46039f"
            ],
            [
             0.2222222222222222,
             "#7201a8"
            ],
            [
             0.3333333333333333,
             "#9c179e"
            ],
            [
             0.4444444444444444,
             "#bd3786"
            ],
            [
             0.5555555555555556,
             "#d8576b"
            ],
            [
             0.6666666666666666,
             "#ed7953"
            ],
            [
             0.7777777777777778,
             "#fb9f3a"
            ],
            [
             0.8888888888888888,
             "#fdca26"
            ],
            [
             1,
             "#f0f921"
            ]
           ]
          },
          "colorway": [
           "#636efa",
           "#EF553B",
           "#00cc96",
           "#ab63fa",
           "#FFA15A",
           "#19d3f3",
           "#FF6692",
           "#B6E880",
           "#FF97FF",
           "#FECB52"
          ],
          "font": {
           "color": "#2a3f5f"
          },
          "geo": {
           "bgcolor": "white",
           "lakecolor": "white",
           "landcolor": "#E5ECF6",
           "showlakes": true,
           "showland": true,
           "subunitcolor": "white"
          },
          "hoverlabel": {
           "align": "left"
          },
          "hovermode": "closest",
          "mapbox": {
           "style": "light"
          },
          "paper_bgcolor": "white",
          "plot_bgcolor": "#E5ECF6",
          "polar": {
           "angularaxis": {
            "gridcolor": "white",
            "linecolor": "white",
            "ticks": ""
           },
           "bgcolor": "#E5ECF6",
           "radialaxis": {
            "gridcolor": "white",
            "linecolor": "white",
            "ticks": ""
           }
          },
          "scene": {
           "xaxis": {
            "backgroundcolor": "#E5ECF6",
            "gridcolor": "white",
            "gridwidth": 2,
            "linecolor": "white",
            "showbackground": true,
            "ticks": "",
            "zerolinecolor": "white"
           },
           "yaxis": {
            "backgroundcolor": "#E5ECF6",
            "gridcolor": "white",
            "gridwidth": 2,
            "linecolor": "white",
            "showbackground": true,
            "ticks": "",
            "zerolinecolor": "white"
           },
           "zaxis": {
            "backgroundcolor": "#E5ECF6",
            "gridcolor": "white",
            "gridwidth": 2,
            "linecolor": "white",
            "showbackground": true,
            "ticks": "",
            "zerolinecolor": "white"
           }
          },
          "shapedefaults": {
           "line": {
            "color": "#2a3f5f"
           }
          },
          "ternary": {
           "aaxis": {
            "gridcolor": "white",
            "linecolor": "white",
            "ticks": ""
           },
           "baxis": {
            "gridcolor": "white",
            "linecolor": "white",
            "ticks": ""
           },
           "bgcolor": "#E5ECF6",
           "caxis": {
            "gridcolor": "white",
            "linecolor": "white",
            "ticks": ""
           }
          },
          "title": {
           "x": 0.05
          },
          "xaxis": {
           "automargin": true,
           "gridcolor": "white",
           "linecolor": "white",
           "ticks": "",
           "title": {
            "standoff": 15
           },
           "zerolinecolor": "white",
           "zerolinewidth": 2
          },
          "yaxis": {
           "automargin": true,
           "gridcolor": "white",
           "linecolor": "white",
           "ticks": "",
           "title": {
            "standoff": 15
           },
           "zerolinecolor": "white",
           "zerolinewidth": 2
          }
         }
        },
        "title": {
         "text": "Distribuição dos empréstimos mensais para os alunos de graduação"
        },
        "xaxis": {
         "anchor": "y",
         "domain": [
          0,
          1
         ],
         "title": {
          "text": "ano"
         }
        },
        "yaxis": {
         "anchor": "x",
         "domain": [
          0,
          1
         ],
         "title": {
          "text": "quantidade"
         }
        }
       }
      },
      "text/html": [
       "<div>                            <div id=\"01bb96c6-8d60-4d9b-af36-dd69cbda159e\" class=\"plotly-graph-div\" style=\"height:525px; width:100%;\"></div>            <script type=\"text/javascript\">                require([\"plotly\"], function(Plotly) {                    window.PLOTLYENV=window.PLOTLYENV || {};                                    if (document.getElementById(\"01bb96c6-8d60-4d9b-af36-dd69cbda159e\")) {                    Plotly.newPlot(                        \"01bb96c6-8d60-4d9b-af36-dd69cbda159e\",                        [{\"alignmentgroup\":\"True\",\"hovertemplate\":\"ano=%{x}<br>quantidade=%{y}<extra></extra>\",\"legendgroup\":\"\",\"marker\":{\"color\":\"#636efa\"},\"name\":\"\",\"notched\":false,\"offsetgroup\":\"\",\"orientation\":\"v\",\"showlegend\":false,\"x\":[\"2010\",\"2010\",\"2010\",\"2010\",\"2010\",\"2010\",\"2010\",\"2010\",\"2010\",\"2010\",\"2010\",\"2010\",\"2011\",\"2011\",\"2011\",\"2011\",\"2011\",\"2011\",\"2011\",\"2011\",\"2011\",\"2011\",\"2011\",\"2011\",\"2012\",\"2012\",\"2012\",\"2012\",\"2012\",\"2012\",\"2012\",\"2012\",\"2012\",\"2012\",\"2012\",\"2012\",\"2013\",\"2013\",\"2013\",\"2013\",\"2013\",\"2013\",\"2013\",\"2013\",\"2013\",\"2013\",\"2013\",\"2013\",\"2014\",\"2014\",\"2014\",\"2014\",\"2014\",\"2014\",\"2014\",\"2014\",\"2014\",\"2014\",\"2014\",\"2014\",\"2015\",\"2015\",\"2015\",\"2015\",\"2015\",\"2015\",\"2015\",\"2015\",\"2015\",\"2015\",\"2015\",\"2015\",\"2016\",\"2016\",\"2016\",\"2016\",\"2016\",\"2016\",\"2016\",\"2016\",\"2016\",\"2016\",\"2016\",\"2016\",\"2017\",\"2017\",\"2017\",\"2017\",\"2017\",\"2017\",\"2017\",\"2017\",\"2017\",\"2017\",\"2017\",\"2017\",\"2018\",\"2018\",\"2018\",\"2018\",\"2018\",\"2018\",\"2018\",\"2018\",\"2018\",\"2018\",\"2018\",\"2018\",\"2019\",\"2019\",\"2019\",\"2019\",\"2019\",\"2019\",\"2019\",\"2019\",\"2019\",\"2019\",\"2019\",\"2019\",\"2020\",\"2020\",\"2020\",\"2020\"],\"x0\":\" \",\"xaxis\":\"x\",\"y\":[1105,1474,2919,2716,2514,1920,1522,2222,2297,2026,1782,1275,465,1563,2573,2431,2591,2095,1945,2818,2595,2340,2030,1903,1714,2217,3575,2956,2993,2025,1566,2351,2341,2553,2370,1691,1753,2445,3274,3186,2921,2104,2767,3110,3181,2791,2528,2108,2316,3583,3204,3010,2690,1605,2571,3101,3180,2904,2325,1970,1785,3086,3927,3315,3120,2774,2661,2977,2506,2711,2423,1701,1646,2328,3711,2720,3115,3049,2378,3662,3483,2753,2059,1692,1649,2332,3722,2724,3125,3059,2339,3837,2849,2705,2376,1582,1545,2229,3518,3290,2914,2376,1868,3068,2451,2389,2049,1382,1601,2379,2922,2836,2593,2049,2037,2848,2307,2082,1613,1069,1143,1189,1471,2],\"y0\":\" \",\"yaxis\":\"y\",\"type\":\"box\"}],                        {\"template\":{\"data\":{\"histogram2dcontour\":[{\"type\":\"histogram2dcontour\",\"colorbar\":{\"outlinewidth\":0,\"ticks\":\"\"},\"colorscale\":[[0.0,\"#0d0887\"],[0.1111111111111111,\"#46039f\"],[0.2222222222222222,\"#7201a8\"],[0.3333333333333333,\"#9c179e\"],[0.4444444444444444,\"#bd3786\"],[0.5555555555555556,\"#d8576b\"],[0.6666666666666666,\"#ed7953\"],[0.7777777777777778,\"#fb9f3a\"],[0.8888888888888888,\"#fdca26\"],[1.0,\"#f0f921\"]]}],\"choropleth\":[{\"type\":\"choropleth\",\"colorbar\":{\"outlinewidth\":0,\"ticks\":\"\"}}],\"histogram2d\":[{\"type\":\"histogram2d\",\"colorbar\":{\"outlinewidth\":0,\"ticks\":\"\"},\"colorscale\":[[0.0,\"#0d0887\"],[0.1111111111111111,\"#46039f\"],[0.2222222222222222,\"#7201a8\"],[0.3333333333333333,\"#9c179e\"],[0.4444444444444444,\"#bd3786\"],[0.5555555555555556,\"#d8576b\"],[0.6666666666666666,\"#ed7953\"],[0.7777777777777778,\"#fb9f3a\"],[0.8888888888888888,\"#fdca26\"],[1.0,\"#f0f921\"]]}],\"heatmap\":[{\"type\":\"heatmap\",\"colorbar\":{\"outlinewidth\":0,\"ticks\":\"\"},\"colorscale\":[[0.0,\"#0d0887\"],[0.1111111111111111,\"#46039f\"],[0.2222222222222222,\"#7201a8\"],[0.3333333333333333,\"#9c179e\"],[0.4444444444444444,\"#bd3786\"],[0.5555555555555556,\"#d8576b\"],[0.6666666666666666,\"#ed7953\"],[0.7777777777777778,\"#fb9f3a\"],[0.8888888888888888,\"#fdca26\"],[1.0,\"#f0f921\"]]}],\"heatmapgl\":[{\"type\":\"heatmapgl\",\"colorbar\":{\"outlinewidth\":0,\"ticks\":\"\"},\"colorscale\":[[0.0,\"#0d0887\"],[0.1111111111111111,\"#46039f\"],[0.2222222222222222,\"#7201a8\"],[0.3333333333333333,\"#9c179e\"],[0.4444444444444444,\"#bd3786\"],[0.5555555555555556,\"#d8576b\"],[0.6666666666666666,\"#ed7953\"],[0.7777777777777778,\"#fb9f3a\"],[0.8888888888888888,\"#fdca26\"],[1.0,\"#f0f921\"]]}],\"contourcarpet\":[{\"type\":\"contourcarpet\",\"colorbar\":{\"outlinewidth\":0,\"ticks\":\"\"}}],\"contour\":[{\"type\":\"contour\",\"colorbar\":{\"outlinewidth\":0,\"ticks\":\"\"},\"colorscale\":[[0.0,\"#0d0887\"],[0.1111111111111111,\"#46039f\"],[0.2222222222222222,\"#7201a8\"],[0.3333333333333333,\"#9c179e\"],[0.4444444444444444,\"#bd3786\"],[0.5555555555555556,\"#d8576b\"],[0.6666666666666666,\"#ed7953\"],[0.7777777777777778,\"#fb9f3a\"],[0.8888888888888888,\"#fdca26\"],[1.0,\"#f0f921\"]]}],\"surface\":[{\"type\":\"surface\",\"colorbar\":{\"outlinewidth\":0,\"ticks\":\"\"},\"colorscale\":[[0.0,\"#0d0887\"],[0.1111111111111111,\"#46039f\"],[0.2222222222222222,\"#7201a8\"],[0.3333333333333333,\"#9c179e\"],[0.4444444444444444,\"#bd3786\"],[0.5555555555555556,\"#d8576b\"],[0.6666666666666666,\"#ed7953\"],[0.7777777777777778,\"#fb9f3a\"],[0.8888888888888888,\"#fdca26\"],[1.0,\"#f0f921\"]]}],\"mesh3d\":[{\"type\":\"mesh3d\",\"colorbar\":{\"outlinewidth\":0,\"ticks\":\"\"}}],\"scatter\":[{\"fillpattern\":{\"fillmode\":\"overlay\",\"size\":10,\"solidity\":0.2},\"type\":\"scatter\"}],\"parcoords\":[{\"type\":\"parcoords\",\"line\":{\"colorbar\":{\"outlinewidth\":0,\"ticks\":\"\"}}}],\"scatterpolargl\":[{\"type\":\"scatterpolargl\",\"marker\":{\"colorbar\":{\"outlinewidth\":0,\"ticks\":\"\"}}}],\"bar\":[{\"error_x\":{\"color\":\"#2a3f5f\"},\"error_y\":{\"color\":\"#2a3f5f\"},\"marker\":{\"line\":{\"color\":\"#E5ECF6\",\"width\":0.5},\"pattern\":{\"fillmode\":\"overlay\",\"size\":10,\"solidity\":0.2}},\"type\":\"bar\"}],\"scattergeo\":[{\"type\":\"scattergeo\",\"marker\":{\"colorbar\":{\"outlinewidth\":0,\"ticks\":\"\"}}}],\"scatterpolar\":[{\"type\":\"scatterpolar\",\"marker\":{\"colorbar\":{\"outlinewidth\":0,\"ticks\":\"\"}}}],\"histogram\":[{\"marker\":{\"pattern\":{\"fillmode\":\"overlay\",\"size\":10,\"solidity\":0.2}},\"type\":\"histogram\"}],\"scattergl\":[{\"type\":\"scattergl\",\"marker\":{\"colorbar\":{\"outlinewidth\":0,\"ticks\":\"\"}}}],\"scatter3d\":[{\"type\":\"scatter3d\",\"line\":{\"colorbar\":{\"outlinewidth\":0,\"ticks\":\"\"}},\"marker\":{\"colorbar\":{\"outlinewidth\":0,\"ticks\":\"\"}}}],\"scattermapbox\":[{\"type\":\"scattermapbox\",\"marker\":{\"colorbar\":{\"outlinewidth\":0,\"ticks\":\"\"}}}],\"scatterternary\":[{\"type\":\"scatterternary\",\"marker\":{\"colorbar\":{\"outlinewidth\":0,\"ticks\":\"\"}}}],\"scattercarpet\":[{\"type\":\"scattercarpet\",\"marker\":{\"colorbar\":{\"outlinewidth\":0,\"ticks\":\"\"}}}],\"carpet\":[{\"aaxis\":{\"endlinecolor\":\"#2a3f5f\",\"gridcolor\":\"white\",\"linecolor\":\"white\",\"minorgridcolor\":\"white\",\"startlinecolor\":\"#2a3f5f\"},\"baxis\":{\"endlinecolor\":\"#2a3f5f\",\"gridcolor\":\"white\",\"linecolor\":\"white\",\"minorgridcolor\":\"white\",\"startlinecolor\":\"#2a3f5f\"},\"type\":\"carpet\"}],\"table\":[{\"cells\":{\"fill\":{\"color\":\"#EBF0F8\"},\"line\":{\"color\":\"white\"}},\"header\":{\"fill\":{\"color\":\"#C8D4E3\"},\"line\":{\"color\":\"white\"}},\"type\":\"table\"}],\"barpolar\":[{\"marker\":{\"line\":{\"color\":\"#E5ECF6\",\"width\":0.5},\"pattern\":{\"fillmode\":\"overlay\",\"size\":10,\"solidity\":0.2}},\"type\":\"barpolar\"}],\"pie\":[{\"automargin\":true,\"type\":\"pie\"}]},\"layout\":{\"autotypenumbers\":\"strict\",\"colorway\":[\"#636efa\",\"#EF553B\",\"#00cc96\",\"#ab63fa\",\"#FFA15A\",\"#19d3f3\",\"#FF6692\",\"#B6E880\",\"#FF97FF\",\"#FECB52\"],\"font\":{\"color\":\"#2a3f5f\"},\"hovermode\":\"closest\",\"hoverlabel\":{\"align\":\"left\"},\"paper_bgcolor\":\"white\",\"plot_bgcolor\":\"#E5ECF6\",\"polar\":{\"bgcolor\":\"#E5ECF6\",\"angularaxis\":{\"gridcolor\":\"white\",\"linecolor\":\"white\",\"ticks\":\"\"},\"radialaxis\":{\"gridcolor\":\"white\",\"linecolor\":\"white\",\"ticks\":\"\"}},\"ternary\":{\"bgcolor\":\"#E5ECF6\",\"aaxis\":{\"gridcolor\":\"white\",\"linecolor\":\"white\",\"ticks\":\"\"},\"baxis\":{\"gridcolor\":\"white\",\"linecolor\":\"white\",\"ticks\":\"\"},\"caxis\":{\"gridcolor\":\"white\",\"linecolor\":\"white\",\"ticks\":\"\"}},\"coloraxis\":{\"colorbar\":{\"outlinewidth\":0,\"ticks\":\"\"}},\"colorscale\":{\"sequential\":[[0.0,\"#0d0887\"],[0.1111111111111111,\"#46039f\"],[0.2222222222222222,\"#7201a8\"],[0.3333333333333333,\"#9c179e\"],[0.4444444444444444,\"#bd3786\"],[0.5555555555555556,\"#d8576b\"],[0.6666666666666666,\"#ed7953\"],[0.7777777777777778,\"#fb9f3a\"],[0.8888888888888888,\"#fdca26\"],[1.0,\"#f0f921\"]],\"sequentialminus\":[[0.0,\"#0d0887\"],[0.1111111111111111,\"#46039f\"],[0.2222222222222222,\"#7201a8\"],[0.3333333333333333,\"#9c179e\"],[0.4444444444444444,\"#bd3786\"],[0.5555555555555556,\"#d8576b\"],[0.6666666666666666,\"#ed7953\"],[0.7777777777777778,\"#fb9f3a\"],[0.8888888888888888,\"#fdca26\"],[1.0,\"#f0f921\"]],\"diverging\":[[0,\"#8e0152\"],[0.1,\"#c51b7d\"],[0.2,\"#de77ae\"],[0.3,\"#f1b6da\"],[0.4,\"#fde0ef\"],[0.5,\"#f7f7f7\"],[0.6,\"#e6f5d0\"],[0.7,\"#b8e186\"],[0.8,\"#7fbc41\"],[0.9,\"#4d9221\"],[1,\"#276419\"]]},\"xaxis\":{\"gridcolor\":\"white\",\"linecolor\":\"white\",\"ticks\":\"\",\"title\":{\"standoff\":15},\"zerolinecolor\":\"white\",\"automargin\":true,\"zerolinewidth\":2},\"yaxis\":{\"gridcolor\":\"white\",\"linecolor\":\"white\",\"ticks\":\"\",\"title\":{\"standoff\":15},\"zerolinecolor\":\"white\",\"automargin\":true,\"zerolinewidth\":2},\"scene\":{\"xaxis\":{\"backgroundcolor\":\"#E5ECF6\",\"gridcolor\":\"white\",\"linecolor\":\"white\",\"showbackground\":true,\"ticks\":\"\",\"zerolinecolor\":\"white\",\"gridwidth\":2},\"yaxis\":{\"backgroundcolor\":\"#E5ECF6\",\"gridcolor\":\"white\",\"linecolor\":\"white\",\"showbackground\":true,\"ticks\":\"\",\"zerolinecolor\":\"white\",\"gridwidth\":2},\"zaxis\":{\"backgroundcolor\":\"#E5ECF6\",\"gridcolor\":\"white\",\"linecolor\":\"white\",\"showbackground\":true,\"ticks\":\"\",\"zerolinecolor\":\"white\",\"gridwidth\":2}},\"shapedefaults\":{\"line\":{\"color\":\"#2a3f5f\"}},\"annotationdefaults\":{\"arrowcolor\":\"#2a3f5f\",\"arrowhead\":0,\"arrowwidth\":1},\"geo\":{\"bgcolor\":\"white\",\"landcolor\":\"#E5ECF6\",\"subunitcolor\":\"white\",\"showland\":true,\"showlakes\":true,\"lakecolor\":\"white\"},\"title\":{\"x\":0.05},\"mapbox\":{\"style\":\"light\"}}},\"xaxis\":{\"anchor\":\"y\",\"domain\":[0.0,1.0],\"title\":{\"text\":\"ano\"}},\"yaxis\":{\"anchor\":\"x\",\"domain\":[0.0,1.0],\"title\":{\"text\":\"quantidade\"}},\"legend\":{\"tracegroupgap\":0},\"title\":{\"text\":\"Distribuição dos empréstimos mensais para os alunos de graduação\"},\"boxmode\":\"group\"},                        {\"responsive\": true}                    ).then(function(){\n",
       "                            \n",
       "var gd = document.getElementById('01bb96c6-8d60-4d9b-af36-dd69cbda159e');\n",
       "var x = new MutationObserver(function (mutations, observer) {{\n",
       "        var display = window.getComputedStyle(gd).display;\n",
       "        if (!display || display === 'none') {{\n",
       "            console.log([gd, 'removed!']);\n",
       "            Plotly.purge(gd);\n",
       "            observer.disconnect();\n",
       "        }}\n",
       "}});\n",
       "\n",
       "// Listen for the removal of the full notebook cells\n",
       "var notebookContainer = gd.closest('#notebook-container');\n",
       "if (notebookContainer) {{\n",
       "    x.observe(notebookContainer, {childList: true});\n",
       "}}\n",
       "\n",
       "// Listen for the clearing of the current output cell\n",
       "var outputEl = gd.closest('.output');\n",
       "if (outputEl) {{\n",
       "    x.observe(outputEl, {childList: true});\n",
       "}}\n",
       "\n",
       "                        })                };                });            </script>        </div>"
      ]
     },
     "metadata": {},
     "output_type": "display_data"
    }
   ],
   "source": [
    "# Visualização do gráfico dos dados\n",
    "\n",
    "fig = px.box(\n",
    "    empr_por_ano_pos_grad,\n",
    "    x='ano',\n",
    "    y='quantidade',\n",
    "    title='Distribuição dos empréstimos mensais para os alunos de graduação'\n",
    ")\n",
    "\n",
    "fig.show()"
   ]
  },
  {
   "cell_type": "markdown",
   "id": "18f842a2",
   "metadata": {},
   "source": [
    "Assim como no gráfico em relação ao alunos da graduação, os empréstimos feitos pelos alunos da pós-graduação também teve um crescimento até próximo do ano de 2013 e a partir de então uma queda, com uma queda mais acentuada a partir de 2018.\n",
    "\n",
    "A principal diferença entre os dois grupos é que, no caso do alunos de pós-graduação, entre 2014 e 2017, houve uma certa estabilidade nos empréstimos, observando-se a quase linearidade da mediana, além de poucas diferenças entre os valores mínimos, ocorrendo uma maior variação somente nos valores máximos.\n",
    "\n",
    "Considerando os comportamentos em comum, é notável que é necessário investigar, a fim de trazer melhoras no números de empréstimos de livros:\n",
    "   - Os anos de 2010 a 2013, já que foram anos de aumento constante.\n",
    "   - Os anos a partir de 2018, a fim de entender a queda que se segue."
   ]
  }
 ],
 "metadata": {
  "kernelspec": {
   "display_name": "Python 3 (ipykernel)",
   "language": "python",
   "name": "python3"
  },
  "language_info": {
   "codemirror_mode": {
    "name": "ipython",
    "version": 3
   },
   "file_extension": ".py",
   "mimetype": "text/x-python",
   "name": "python",
   "nbconvert_exporter": "python",
   "pygments_lexer": "ipython3",
   "version": "3.10.9"
  }
 },
 "nbformat": 4,
 "nbformat_minor": 5
}
